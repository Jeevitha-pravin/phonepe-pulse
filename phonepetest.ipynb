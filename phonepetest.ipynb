{
 "cells": [
  {
   "cell_type": "code",
   "execution_count": 1,
   "metadata": {},
   "outputs": [],
   "source": [
    "import os\n",
    "import json\n",
    "import pandas as pd\n",
    "import mysql.connector\n",
    "import streamlit as st\n",
    "import plotly.express as px\n",
    "from streamlit_option_menu import option_menu\n",
    "from PIL import Image\n",
    "from git.repo.base import Repo\n",
    "import plotly.graph_objects as go"
   ]
  },
  {
   "cell_type": "code",
   "execution_count": 60,
   "metadata": {},
   "outputs": [],
   "source": [
    "#agree_transaction\n",
    "\n",
    "path1=\"C:/Users/Admin/Desktop/New folder/phonepe/pulse/data/aggregated/transaction/country/india/state/\"\n",
    "agg_trans_list= os.listdir(path1)\n",
    "\n",
    "columns1={\"states\":[], \"years\":[], \"Quarter\":[], \"Transaction_type\":[], \"Transaction_count\":[], \"Transaction_amount\":[]}\n",
    "\n",
    "for state in agg_trans_list:\n",
    "    cur_state=path1+state+\"/\"\n",
    "    agg_year_list=os.listdir(cur_state)\n",
    "    \n",
    "    for year in agg_year_list:\n",
    "        cur_year=cur_state+year+\"/\"\n",
    "        agg_file_list=os.listdir(cur_year)\n",
    "        \n",
    "        for file in agg_file_list:\n",
    "            cur_file=cur_year+file\n",
    "            data1=open(cur_file,\"r\")\n",
    "            \n",
    "            A=json.load(data1)\n",
    "            \n",
    "            for i in A[\"data\"][\"transactionData\"]:\n",
    "                Name=i[\"name\"]\n",
    "                count=i[\"paymentInstruments\"][0][\"count\"]\n",
    "                amount=i[\"paymentInstruments\"][0][\"amount\"]\n",
    "                columns1[\"Transaction_type\"].append(Name)\n",
    "                columns1[\"Transaction_count\"].append(count)\n",
    "                columns1[\"Transaction_amount\"].append(amount)\n",
    "                columns1[\"states\"].append(state)\n",
    "                columns1[\"years\"].append(year)\n",
    "                columns1[\"Quarter\"].append(int(file.strip(\".json\")))\n",
    "                "
   ]
  },
  {
   "cell_type": "code",
   "execution_count": 61,
   "metadata": {},
   "outputs": [],
   "source": [
    "df = pd.DataFrame(agg_trans_list)"
   ]
  },
  {
   "cell_type": "code",
   "execution_count": 4,
   "metadata": {},
   "outputs": [],
   "source": [
    "df = pd.DataFrame(agg_trans_list)\n",
    "df.to_csv('states.csv', index=False)"
   ]
  },
  {
   "cell_type": "code",
   "execution_count": 62,
   "metadata": {},
   "outputs": [],
   "source": [
    "agg_trans=pd.DataFrame(columns1)"
   ]
  },
  {
   "cell_type": "code",
   "execution_count": 63,
   "metadata": {},
   "outputs": [
    {
     "data": {
      "text/html": [
       "<div>\n",
       "<style scoped>\n",
       "    .dataframe tbody tr th:only-of-type {\n",
       "        vertical-align: middle;\n",
       "    }\n",
       "\n",
       "    .dataframe tbody tr th {\n",
       "        vertical-align: top;\n",
       "    }\n",
       "\n",
       "    .dataframe thead th {\n",
       "        text-align: right;\n",
       "    }\n",
       "</style>\n",
       "<table border=\"1\" class=\"dataframe\">\n",
       "  <thead>\n",
       "    <tr style=\"text-align: right;\">\n",
       "      <th></th>\n",
       "      <th>states</th>\n",
       "      <th>years</th>\n",
       "      <th>Quarter</th>\n",
       "      <th>Transaction_type</th>\n",
       "      <th>Transaction_count</th>\n",
       "      <th>Transaction_amount</th>\n",
       "    </tr>\n",
       "  </thead>\n",
       "  <tbody>\n",
       "    <tr>\n",
       "      <th>0</th>\n",
       "      <td>andaman-&amp;-nicobar-islands</td>\n",
       "      <td>2018</td>\n",
       "      <td>1</td>\n",
       "      <td>Recharge &amp; bill payments</td>\n",
       "      <td>4200</td>\n",
       "      <td>1.845307e+06</td>\n",
       "    </tr>\n",
       "    <tr>\n",
       "      <th>1</th>\n",
       "      <td>andaman-&amp;-nicobar-islands</td>\n",
       "      <td>2018</td>\n",
       "      <td>1</td>\n",
       "      <td>Peer-to-peer payments</td>\n",
       "      <td>1871</td>\n",
       "      <td>1.213866e+07</td>\n",
       "    </tr>\n",
       "    <tr>\n",
       "      <th>2</th>\n",
       "      <td>andaman-&amp;-nicobar-islands</td>\n",
       "      <td>2018</td>\n",
       "      <td>1</td>\n",
       "      <td>Merchant payments</td>\n",
       "      <td>298</td>\n",
       "      <td>4.525072e+05</td>\n",
       "    </tr>\n",
       "    <tr>\n",
       "      <th>3</th>\n",
       "      <td>andaman-&amp;-nicobar-islands</td>\n",
       "      <td>2018</td>\n",
       "      <td>1</td>\n",
       "      <td>Financial Services</td>\n",
       "      <td>33</td>\n",
       "      <td>1.060142e+04</td>\n",
       "    </tr>\n",
       "    <tr>\n",
       "      <th>4</th>\n",
       "      <td>andaman-&amp;-nicobar-islands</td>\n",
       "      <td>2018</td>\n",
       "      <td>1</td>\n",
       "      <td>Others</td>\n",
       "      <td>256</td>\n",
       "      <td>1.846899e+05</td>\n",
       "    </tr>\n",
       "    <tr>\n",
       "      <th>...</th>\n",
       "      <td>...</td>\n",
       "      <td>...</td>\n",
       "      <td>...</td>\n",
       "      <td>...</td>\n",
       "      <td>...</td>\n",
       "      <td>...</td>\n",
       "    </tr>\n",
       "    <tr>\n",
       "      <th>4129</th>\n",
       "      <td>west-bengal</td>\n",
       "      <td>2023</td>\n",
       "      <td>3</td>\n",
       "      <td>Merchant payments</td>\n",
       "      <td>296965002</td>\n",
       "      <td>2.004404e+11</td>\n",
       "    </tr>\n",
       "    <tr>\n",
       "      <th>4130</th>\n",
       "      <td>west-bengal</td>\n",
       "      <td>2023</td>\n",
       "      <td>3</td>\n",
       "      <td>Peer-to-peer payments</td>\n",
       "      <td>271150280</td>\n",
       "      <td>8.310501e+11</td>\n",
       "    </tr>\n",
       "    <tr>\n",
       "      <th>4131</th>\n",
       "      <td>west-bengal</td>\n",
       "      <td>2023</td>\n",
       "      <td>3</td>\n",
       "      <td>Recharge &amp; bill payments</td>\n",
       "      <td>63055684</td>\n",
       "      <td>3.920985e+10</td>\n",
       "    </tr>\n",
       "    <tr>\n",
       "      <th>4132</th>\n",
       "      <td>west-bengal</td>\n",
       "      <td>2023</td>\n",
       "      <td>3</td>\n",
       "      <td>Financial Services</td>\n",
       "      <td>389751</td>\n",
       "      <td>4.249856e+08</td>\n",
       "    </tr>\n",
       "    <tr>\n",
       "      <th>4133</th>\n",
       "      <td>west-bengal</td>\n",
       "      <td>2023</td>\n",
       "      <td>3</td>\n",
       "      <td>Others</td>\n",
       "      <td>532474</td>\n",
       "      <td>4.232851e+08</td>\n",
       "    </tr>\n",
       "  </tbody>\n",
       "</table>\n",
       "<p>4134 rows × 6 columns</p>\n",
       "</div>"
      ],
      "text/plain": [
       "                         states years  Quarter          Transaction_type  \\\n",
       "0     andaman-&-nicobar-islands  2018        1  Recharge & bill payments   \n",
       "1     andaman-&-nicobar-islands  2018        1     Peer-to-peer payments   \n",
       "2     andaman-&-nicobar-islands  2018        1         Merchant payments   \n",
       "3     andaman-&-nicobar-islands  2018        1        Financial Services   \n",
       "4     andaman-&-nicobar-islands  2018        1                    Others   \n",
       "...                         ...   ...      ...                       ...   \n",
       "4129                west-bengal  2023        3         Merchant payments   \n",
       "4130                west-bengal  2023        3     Peer-to-peer payments   \n",
       "4131                west-bengal  2023        3  Recharge & bill payments   \n",
       "4132                west-bengal  2023        3        Financial Services   \n",
       "4133                west-bengal  2023        3                    Others   \n",
       "\n",
       "      Transaction_count  Transaction_amount  \n",
       "0                  4200        1.845307e+06  \n",
       "1                  1871        1.213866e+07  \n",
       "2                   298        4.525072e+05  \n",
       "3                    33        1.060142e+04  \n",
       "4                   256        1.846899e+05  \n",
       "...                 ...                 ...  \n",
       "4129          296965002        2.004404e+11  \n",
       "4130          271150280        8.310501e+11  \n",
       "4131           63055684        3.920985e+10  \n",
       "4132             389751        4.249856e+08  \n",
       "4133             532474        4.232851e+08  \n",
       "\n",
       "[4134 rows x 6 columns]"
      ]
     },
     "execution_count": 63,
     "metadata": {},
     "output_type": "execute_result"
    }
   ],
   "source": [
    "agg_trans"
   ]
  },
  {
   "cell_type": "code",
   "execution_count": null,
   "metadata": {},
   "outputs": [],
   "source": []
  },
  {
   "cell_type": "code",
   "execution_count": 64,
   "metadata": {},
   "outputs": [
    {
     "name": "stdout",
     "output_type": "stream",
     "text": [
      "NaN values before mapping:\n",
      "0\n"
     ]
    }
   ],
   "source": [
    "print(\"NaN values before mapping:\")\n",
    "print(agg_trans['states'].isna().sum())"
   ]
  },
  {
   "cell_type": "code",
   "execution_count": 65,
   "metadata": {},
   "outputs": [],
   "source": [
    "\n",
    "states_mapping= {'andaman-&-nicobar-islands':'Andaman & Nicobar', 'andhra-pradesh':'Andhra Pradesh', 'arunachal-pradesh':'Arunachal Pradesh','assam':'Assam','bihar':'Bihar',\n",
    "                    'chandigarh':'Chandigarh', 'chhattisgarh':'Chhattisgarh', 'dadra-&-nagar-haveli-&-daman-&-diu':'Dadra and Nagar Haveli and Daman and Diu', 'delhi':'Delhi',\n",
    "                    'goa':'Goa', 'gujarat':'Gujarat', 'haryana':'Haryana', 'himachal-pradesh':'Himachal Pradesh', 'jammu-&-kashmir':'Jammu & Kashmir', 'jharkhand':'Jharkhand',\n",
    "                    'karnataka':'Karnataka', 'kerala':'Kerala', 'ladakh':'Ladakh', 'lakshadweep':'Lakshadweep', 'madhya-pradesh':'Madhya Pradesh', 'maharashtra':'Maharashtra',\n",
    "                    'manipur':'Manipur', 'meghalaya':'Meghalaya', 'mizoram':'Mizoram', 'nagaland':'Nagaland', 'odisha':'Odisha', 'puducherry':'Puducherry', 'punjab':'Punjab',\n",
    "                    'rajasthan':'Rajasthan', 'sikkim':'Sikkim', 'tamil-nadu':'Tamil Nadu', 'telangana':'Telangana', 'tripura':'Tripura', 'uttar-pradesh':'Uttar Pradesh',\n",
    "                    'uttarakhand':'Uttarakhand', 'west-bengal':'West Bengal'}\n",
    "agg_trans['states'].replace(states_mapping, inplace=True)"
   ]
  },
  {
   "cell_type": "code",
   "execution_count": 67,
   "metadata": {},
   "outputs": [
    {
     "data": {
      "text/html": [
       "<div>\n",
       "<style scoped>\n",
       "    .dataframe tbody tr th:only-of-type {\n",
       "        vertical-align: middle;\n",
       "    }\n",
       "\n",
       "    .dataframe tbody tr th {\n",
       "        vertical-align: top;\n",
       "    }\n",
       "\n",
       "    .dataframe thead th {\n",
       "        text-align: right;\n",
       "    }\n",
       "</style>\n",
       "<table border=\"1\" class=\"dataframe\">\n",
       "  <thead>\n",
       "    <tr style=\"text-align: right;\">\n",
       "      <th></th>\n",
       "      <th>states</th>\n",
       "      <th>years</th>\n",
       "      <th>Quarter</th>\n",
       "      <th>Transaction_type</th>\n",
       "      <th>Transaction_count</th>\n",
       "      <th>Transaction_amount</th>\n",
       "    </tr>\n",
       "  </thead>\n",
       "  <tbody>\n",
       "    <tr>\n",
       "      <th>0</th>\n",
       "      <td>Andaman &amp; Nicobar</td>\n",
       "      <td>2018</td>\n",
       "      <td>1</td>\n",
       "      <td>Recharge &amp; bill payments</td>\n",
       "      <td>4200</td>\n",
       "      <td>1.845307e+06</td>\n",
       "    </tr>\n",
       "    <tr>\n",
       "      <th>1</th>\n",
       "      <td>Andaman &amp; Nicobar</td>\n",
       "      <td>2018</td>\n",
       "      <td>1</td>\n",
       "      <td>Peer-to-peer payments</td>\n",
       "      <td>1871</td>\n",
       "      <td>1.213866e+07</td>\n",
       "    </tr>\n",
       "    <tr>\n",
       "      <th>2</th>\n",
       "      <td>Andaman &amp; Nicobar</td>\n",
       "      <td>2018</td>\n",
       "      <td>1</td>\n",
       "      <td>Merchant payments</td>\n",
       "      <td>298</td>\n",
       "      <td>4.525072e+05</td>\n",
       "    </tr>\n",
       "    <tr>\n",
       "      <th>3</th>\n",
       "      <td>Andaman &amp; Nicobar</td>\n",
       "      <td>2018</td>\n",
       "      <td>1</td>\n",
       "      <td>Financial Services</td>\n",
       "      <td>33</td>\n",
       "      <td>1.060142e+04</td>\n",
       "    </tr>\n",
       "    <tr>\n",
       "      <th>4</th>\n",
       "      <td>Andaman &amp; Nicobar</td>\n",
       "      <td>2018</td>\n",
       "      <td>1</td>\n",
       "      <td>Others</td>\n",
       "      <td>256</td>\n",
       "      <td>1.846899e+05</td>\n",
       "    </tr>\n",
       "    <tr>\n",
       "      <th>...</th>\n",
       "      <td>...</td>\n",
       "      <td>...</td>\n",
       "      <td>...</td>\n",
       "      <td>...</td>\n",
       "      <td>...</td>\n",
       "      <td>...</td>\n",
       "    </tr>\n",
       "    <tr>\n",
       "      <th>4129</th>\n",
       "      <td>West Bengal</td>\n",
       "      <td>2023</td>\n",
       "      <td>3</td>\n",
       "      <td>Merchant payments</td>\n",
       "      <td>296965002</td>\n",
       "      <td>2.004404e+11</td>\n",
       "    </tr>\n",
       "    <tr>\n",
       "      <th>4130</th>\n",
       "      <td>West Bengal</td>\n",
       "      <td>2023</td>\n",
       "      <td>3</td>\n",
       "      <td>Peer-to-peer payments</td>\n",
       "      <td>271150280</td>\n",
       "      <td>8.310501e+11</td>\n",
       "    </tr>\n",
       "    <tr>\n",
       "      <th>4131</th>\n",
       "      <td>West Bengal</td>\n",
       "      <td>2023</td>\n",
       "      <td>3</td>\n",
       "      <td>Recharge &amp; bill payments</td>\n",
       "      <td>63055684</td>\n",
       "      <td>3.920985e+10</td>\n",
       "    </tr>\n",
       "    <tr>\n",
       "      <th>4132</th>\n",
       "      <td>West Bengal</td>\n",
       "      <td>2023</td>\n",
       "      <td>3</td>\n",
       "      <td>Financial Services</td>\n",
       "      <td>389751</td>\n",
       "      <td>4.249856e+08</td>\n",
       "    </tr>\n",
       "    <tr>\n",
       "      <th>4133</th>\n",
       "      <td>West Bengal</td>\n",
       "      <td>2023</td>\n",
       "      <td>3</td>\n",
       "      <td>Others</td>\n",
       "      <td>532474</td>\n",
       "      <td>4.232851e+08</td>\n",
       "    </tr>\n",
       "  </tbody>\n",
       "</table>\n",
       "<p>4134 rows × 6 columns</p>\n",
       "</div>"
      ],
      "text/plain": [
       "                 states years  Quarter          Transaction_type  \\\n",
       "0     Andaman & Nicobar  2018        1  Recharge & bill payments   \n",
       "1     Andaman & Nicobar  2018        1     Peer-to-peer payments   \n",
       "2     Andaman & Nicobar  2018        1         Merchant payments   \n",
       "3     Andaman & Nicobar  2018        1        Financial Services   \n",
       "4     Andaman & Nicobar  2018        1                    Others   \n",
       "...                 ...   ...      ...                       ...   \n",
       "4129        West Bengal  2023        3         Merchant payments   \n",
       "4130        West Bengal  2023        3     Peer-to-peer payments   \n",
       "4131        West Bengal  2023        3  Recharge & bill payments   \n",
       "4132        West Bengal  2023        3        Financial Services   \n",
       "4133        West Bengal  2023        3                    Others   \n",
       "\n",
       "      Transaction_count  Transaction_amount  \n",
       "0                  4200        1.845307e+06  \n",
       "1                  1871        1.213866e+07  \n",
       "2                   298        4.525072e+05  \n",
       "3                    33        1.060142e+04  \n",
       "4                   256        1.846899e+05  \n",
       "...                 ...                 ...  \n",
       "4129          296965002        2.004404e+11  \n",
       "4130          271150280        8.310501e+11  \n",
       "4131           63055684        3.920985e+10  \n",
       "4132             389751        4.249856e+08  \n",
       "4133             532474        4.232851e+08  \n",
       "\n",
       "[4134 rows x 6 columns]"
      ]
     },
     "execution_count": 67,
     "metadata": {},
     "output_type": "execute_result"
    }
   ],
   "source": [
    "agg_trans"
   ]
  },
  {
   "cell_type": "code",
   "execution_count": null,
   "metadata": {},
   "outputs": [],
   "source": [
    "print(agg_trans)"
   ]
  },
  {
   "cell_type": "code",
   "execution_count": 4,
   "metadata": {},
   "outputs": [],
   "source": [
    "#agg user\n",
    "\n",
    "path2=\"C:/Users/Admin/Desktop/New folder/phonepe/pulse/data/aggregated/user/country/india/state/\"\n",
    "agg_user_list= os.listdir(path2)\n",
    "\n",
    "columns2={\"states\":[], \"years\":[], \"Quarter\":[], \"Brands\":[], \"Transaction_count\":[], \"Percentage\":[]}\n",
    "\n",
    "for state in agg_trans_list:\n",
    "    cur_state=path2+state+\"/\"\n",
    "    agg_year_list=os.listdir(cur_state)\n",
    "    \n",
    "    for year in agg_year_list:\n",
    "        cur_year=cur_state+year+\"/\"\n",
    "        agg_file_list=os.listdir(cur_year)\n",
    "        \n",
    "        for file in agg_file_list:\n",
    "            cur_file=cur_year+file\n",
    "            data1=open(cur_file,\"r\")\n",
    "            \n",
    "            B=json.load(data1)\n",
    "            \n",
    "            try:\n",
    "                for i in B[\"data\"][\"usersByDevice\"]:\n",
    "                    Brand=i[\"brand\"]\n",
    "                    count=i[\"count\"]\n",
    "                    percentage=i[\"percentage\"]\n",
    "                    columns2[\"Brands\"].append(Brand)\n",
    "                    columns2[\"Transaction_count\"].append(count)\n",
    "                    columns2[\"Percentage\"].append(percentage)\n",
    "                    columns2[\"states\"].append(state)\n",
    "                    columns2[\"years\"].append(year)\n",
    "                    columns2[\"Quarter\"].append(int(file.strip(\".json\")))\n",
    "            except:\n",
    "                pass"
   ]
  },
  {
   "cell_type": "code",
   "execution_count": 5,
   "metadata": {},
   "outputs": [],
   "source": [
    "agg_user=pd.DataFrame(columns2)"
   ]
  },
  {
   "cell_type": "code",
   "execution_count": 37,
   "metadata": {},
   "outputs": [
    {
     "data": {
      "text/html": [
       "<div>\n",
       "<style scoped>\n",
       "    .dataframe tbody tr th:only-of-type {\n",
       "        vertical-align: middle;\n",
       "    }\n",
       "\n",
       "    .dataframe tbody tr th {\n",
       "        vertical-align: top;\n",
       "    }\n",
       "\n",
       "    .dataframe thead th {\n",
       "        text-align: right;\n",
       "    }\n",
       "</style>\n",
       "<table border=\"1\" class=\"dataframe\">\n",
       "  <thead>\n",
       "    <tr style=\"text-align: right;\">\n",
       "      <th></th>\n",
       "      <th>states</th>\n",
       "      <th>years</th>\n",
       "      <th>Quarter</th>\n",
       "      <th>Brands</th>\n",
       "      <th>Transaction_count</th>\n",
       "      <th>Percentage</th>\n",
       "    </tr>\n",
       "  </thead>\n",
       "  <tbody>\n",
       "    <tr>\n",
       "      <th>0</th>\n",
       "      <td>andaman-&amp;-nicobar-islands</td>\n",
       "      <td>2018</td>\n",
       "      <td>1</td>\n",
       "      <td>Xiaomi</td>\n",
       "      <td>1665</td>\n",
       "      <td>0.247033</td>\n",
       "    </tr>\n",
       "    <tr>\n",
       "      <th>1</th>\n",
       "      <td>andaman-&amp;-nicobar-islands</td>\n",
       "      <td>2018</td>\n",
       "      <td>1</td>\n",
       "      <td>Samsung</td>\n",
       "      <td>1445</td>\n",
       "      <td>0.214392</td>\n",
       "    </tr>\n",
       "    <tr>\n",
       "      <th>2</th>\n",
       "      <td>andaman-&amp;-nicobar-islands</td>\n",
       "      <td>2018</td>\n",
       "      <td>1</td>\n",
       "      <td>Vivo</td>\n",
       "      <td>982</td>\n",
       "      <td>0.145697</td>\n",
       "    </tr>\n",
       "    <tr>\n",
       "      <th>3</th>\n",
       "      <td>andaman-&amp;-nicobar-islands</td>\n",
       "      <td>2018</td>\n",
       "      <td>1</td>\n",
       "      <td>Oppo</td>\n",
       "      <td>501</td>\n",
       "      <td>0.074332</td>\n",
       "    </tr>\n",
       "    <tr>\n",
       "      <th>4</th>\n",
       "      <td>andaman-&amp;-nicobar-islands</td>\n",
       "      <td>2018</td>\n",
       "      <td>1</td>\n",
       "      <td>OnePlus</td>\n",
       "      <td>332</td>\n",
       "      <td>0.049258</td>\n",
       "    </tr>\n",
       "    <tr>\n",
       "      <th>...</th>\n",
       "      <td>...</td>\n",
       "      <td>...</td>\n",
       "      <td>...</td>\n",
       "      <td>...</td>\n",
       "      <td>...</td>\n",
       "      <td>...</td>\n",
       "    </tr>\n",
       "    <tr>\n",
       "      <th>6727</th>\n",
       "      <td>west-bengal</td>\n",
       "      <td>2022</td>\n",
       "      <td>1</td>\n",
       "      <td>Lenovo</td>\n",
       "      <td>330017</td>\n",
       "      <td>0.015056</td>\n",
       "    </tr>\n",
       "    <tr>\n",
       "      <th>6728</th>\n",
       "      <td>west-bengal</td>\n",
       "      <td>2022</td>\n",
       "      <td>1</td>\n",
       "      <td>Infinix</td>\n",
       "      <td>284678</td>\n",
       "      <td>0.012987</td>\n",
       "    </tr>\n",
       "    <tr>\n",
       "      <th>6729</th>\n",
       "      <td>west-bengal</td>\n",
       "      <td>2022</td>\n",
       "      <td>1</td>\n",
       "      <td>Asus</td>\n",
       "      <td>280347</td>\n",
       "      <td>0.012790</td>\n",
       "    </tr>\n",
       "    <tr>\n",
       "      <th>6730</th>\n",
       "      <td>west-bengal</td>\n",
       "      <td>2022</td>\n",
       "      <td>1</td>\n",
       "      <td>Apple</td>\n",
       "      <td>277752</td>\n",
       "      <td>0.012671</td>\n",
       "    </tr>\n",
       "    <tr>\n",
       "      <th>6731</th>\n",
       "      <td>west-bengal</td>\n",
       "      <td>2022</td>\n",
       "      <td>1</td>\n",
       "      <td>Others</td>\n",
       "      <td>2196334</td>\n",
       "      <td>0.100199</td>\n",
       "    </tr>\n",
       "  </tbody>\n",
       "</table>\n",
       "<p>6732 rows × 6 columns</p>\n",
       "</div>"
      ],
      "text/plain": [
       "                         states years  Quarter   Brands  Transaction_count  \\\n",
       "0     andaman-&-nicobar-islands  2018        1   Xiaomi               1665   \n",
       "1     andaman-&-nicobar-islands  2018        1  Samsung               1445   \n",
       "2     andaman-&-nicobar-islands  2018        1     Vivo                982   \n",
       "3     andaman-&-nicobar-islands  2018        1     Oppo                501   \n",
       "4     andaman-&-nicobar-islands  2018        1  OnePlus                332   \n",
       "...                         ...   ...      ...      ...                ...   \n",
       "6727                west-bengal  2022        1   Lenovo             330017   \n",
       "6728                west-bengal  2022        1  Infinix             284678   \n",
       "6729                west-bengal  2022        1     Asus             280347   \n",
       "6730                west-bengal  2022        1    Apple             277752   \n",
       "6731                west-bengal  2022        1   Others            2196334   \n",
       "\n",
       "      Percentage  \n",
       "0       0.247033  \n",
       "1       0.214392  \n",
       "2       0.145697  \n",
       "3       0.074332  \n",
       "4       0.049258  \n",
       "...          ...  \n",
       "6727    0.015056  \n",
       "6728    0.012987  \n",
       "6729    0.012790  \n",
       "6730    0.012671  \n",
       "6731    0.100199  \n",
       "\n",
       "[6732 rows x 6 columns]"
      ]
     },
     "execution_count": 37,
     "metadata": {},
     "output_type": "execute_result"
    }
   ],
   "source": [
    "agg_user"
   ]
  },
  {
   "cell_type": "code",
   "execution_count": 68,
   "metadata": {},
   "outputs": [],
   "source": [
    "\n",
    "states_mapping= {'andaman-&-nicobar-islands':'Andaman & Nicobar', 'andhra-pradesh':'Andhra Pradesh', 'arunachal-pradesh':'Arunachal Pradesh','assam':'Assam','bihar':'Bihar',\n",
    "                    'chandigarh':'Chandigarh', 'chhattisgarh':'Chhattisgarh', 'dadra-&-nagar-haveli-&-daman-&-diu':'Dadra and Nagar Haveli and Daman and Diu', 'delhi':'Delhi',\n",
    "                    'goa':'Goa', 'gujarat':'Gujarat', 'haryana':'Haryana', 'himachal-pradesh':'Himachal Pradesh', 'jammu-&-kashmir':'Jammu & Kashmir', 'jharkhand':'Jharkhand',\n",
    "                    'karnataka':'Karnataka', 'kerala':'Kerala', 'ladakh':'Ladakh', 'lakshadweep':'Lakshadweep', 'madhya-pradesh':'Madhya Pradesh', 'maharashtra':'Maharashtra',\n",
    "                    'manipur':'Manipur', 'meghalaya':'Meghalaya', 'mizoram':'Mizoram', 'nagaland':'Nagaland', 'odisha':'Odisha', 'puducherry':'Puducherry', 'punjab':'Punjab',\n",
    "                    'rajasthan':'Rajasthan', 'sikkim':'Sikkim', 'tamil-nadu':'Tamil Nadu', 'telangana':'Telangana', 'tripura':'Tripura', 'uttar-pradesh':'Uttar Pradesh',\n",
    "                    'uttarakhand':'Uttarakhand', 'west-bengal':'West Bengal'}\n",
    "agg_user['states'].replace(states_mapping, inplace=True)"
   ]
  },
  {
   "cell_type": "code",
   "execution_count": 69,
   "metadata": {},
   "outputs": [
    {
     "data": {
      "text/html": [
       "<div>\n",
       "<style scoped>\n",
       "    .dataframe tbody tr th:only-of-type {\n",
       "        vertical-align: middle;\n",
       "    }\n",
       "\n",
       "    .dataframe tbody tr th {\n",
       "        vertical-align: top;\n",
       "    }\n",
       "\n",
       "    .dataframe thead th {\n",
       "        text-align: right;\n",
       "    }\n",
       "</style>\n",
       "<table border=\"1\" class=\"dataframe\">\n",
       "  <thead>\n",
       "    <tr style=\"text-align: right;\">\n",
       "      <th></th>\n",
       "      <th>states</th>\n",
       "      <th>years</th>\n",
       "      <th>Quarter</th>\n",
       "      <th>Brands</th>\n",
       "      <th>Transaction_count</th>\n",
       "      <th>Percentage</th>\n",
       "    </tr>\n",
       "  </thead>\n",
       "  <tbody>\n",
       "    <tr>\n",
       "      <th>0</th>\n",
       "      <td>Andaman &amp; Nicobar</td>\n",
       "      <td>2018</td>\n",
       "      <td>1</td>\n",
       "      <td>Xiaomi</td>\n",
       "      <td>1665</td>\n",
       "      <td>0.247033</td>\n",
       "    </tr>\n",
       "    <tr>\n",
       "      <th>1</th>\n",
       "      <td>Andaman &amp; Nicobar</td>\n",
       "      <td>2018</td>\n",
       "      <td>1</td>\n",
       "      <td>Samsung</td>\n",
       "      <td>1445</td>\n",
       "      <td>0.214392</td>\n",
       "    </tr>\n",
       "    <tr>\n",
       "      <th>2</th>\n",
       "      <td>Andaman &amp; Nicobar</td>\n",
       "      <td>2018</td>\n",
       "      <td>1</td>\n",
       "      <td>Vivo</td>\n",
       "      <td>982</td>\n",
       "      <td>0.145697</td>\n",
       "    </tr>\n",
       "    <tr>\n",
       "      <th>3</th>\n",
       "      <td>Andaman &amp; Nicobar</td>\n",
       "      <td>2018</td>\n",
       "      <td>1</td>\n",
       "      <td>Oppo</td>\n",
       "      <td>501</td>\n",
       "      <td>0.074332</td>\n",
       "    </tr>\n",
       "    <tr>\n",
       "      <th>4</th>\n",
       "      <td>Andaman &amp; Nicobar</td>\n",
       "      <td>2018</td>\n",
       "      <td>1</td>\n",
       "      <td>OnePlus</td>\n",
       "      <td>332</td>\n",
       "      <td>0.049258</td>\n",
       "    </tr>\n",
       "    <tr>\n",
       "      <th>...</th>\n",
       "      <td>...</td>\n",
       "      <td>...</td>\n",
       "      <td>...</td>\n",
       "      <td>...</td>\n",
       "      <td>...</td>\n",
       "      <td>...</td>\n",
       "    </tr>\n",
       "    <tr>\n",
       "      <th>6727</th>\n",
       "      <td>West Bengal</td>\n",
       "      <td>2022</td>\n",
       "      <td>1</td>\n",
       "      <td>Lenovo</td>\n",
       "      <td>330017</td>\n",
       "      <td>0.015056</td>\n",
       "    </tr>\n",
       "    <tr>\n",
       "      <th>6728</th>\n",
       "      <td>West Bengal</td>\n",
       "      <td>2022</td>\n",
       "      <td>1</td>\n",
       "      <td>Infinix</td>\n",
       "      <td>284678</td>\n",
       "      <td>0.012987</td>\n",
       "    </tr>\n",
       "    <tr>\n",
       "      <th>6729</th>\n",
       "      <td>West Bengal</td>\n",
       "      <td>2022</td>\n",
       "      <td>1</td>\n",
       "      <td>Asus</td>\n",
       "      <td>280347</td>\n",
       "      <td>0.012790</td>\n",
       "    </tr>\n",
       "    <tr>\n",
       "      <th>6730</th>\n",
       "      <td>West Bengal</td>\n",
       "      <td>2022</td>\n",
       "      <td>1</td>\n",
       "      <td>Apple</td>\n",
       "      <td>277752</td>\n",
       "      <td>0.012671</td>\n",
       "    </tr>\n",
       "    <tr>\n",
       "      <th>6731</th>\n",
       "      <td>West Bengal</td>\n",
       "      <td>2022</td>\n",
       "      <td>1</td>\n",
       "      <td>Others</td>\n",
       "      <td>2196334</td>\n",
       "      <td>0.100199</td>\n",
       "    </tr>\n",
       "  </tbody>\n",
       "</table>\n",
       "<p>6732 rows × 6 columns</p>\n",
       "</div>"
      ],
      "text/plain": [
       "                 states years  Quarter   Brands  Transaction_count  Percentage\n",
       "0     Andaman & Nicobar  2018        1   Xiaomi               1665    0.247033\n",
       "1     Andaman & Nicobar  2018        1  Samsung               1445    0.214392\n",
       "2     Andaman & Nicobar  2018        1     Vivo                982    0.145697\n",
       "3     Andaman & Nicobar  2018        1     Oppo                501    0.074332\n",
       "4     Andaman & Nicobar  2018        1  OnePlus                332    0.049258\n",
       "...                 ...   ...      ...      ...                ...         ...\n",
       "6727        West Bengal  2022        1   Lenovo             330017    0.015056\n",
       "6728        West Bengal  2022        1  Infinix             284678    0.012987\n",
       "6729        West Bengal  2022        1     Asus             280347    0.012790\n",
       "6730        West Bengal  2022        1    Apple             277752    0.012671\n",
       "6731        West Bengal  2022        1   Others            2196334    0.100199\n",
       "\n",
       "[6732 rows x 6 columns]"
      ]
     },
     "execution_count": 69,
     "metadata": {},
     "output_type": "execute_result"
    }
   ],
   "source": [
    "agg_user"
   ]
  },
  {
   "cell_type": "code",
   "execution_count": 6,
   "metadata": {},
   "outputs": [],
   "source": [
    "#map transaction\n",
    "\n",
    "path3=\"C:/Users/Admin/Desktop/New folder/phonepe/pulse/data/map/transaction/hover/country/india/state/\"\n",
    "map_trans_list= os.listdir(path3)\n",
    "\n",
    "columns3={\"states\":[], \"years\":[], \"Quarter\":[], \"Districts\":[], \"Transaction_count\":[], \"Transaction_amount\":[]}\n",
    "\n",
    "for state in map_trans_list:\n",
    "    cur_state=path3+state+\"/\"\n",
    "    map_year_list=os.listdir(cur_state)\n",
    "    \n",
    "    for year in map_year_list:\n",
    "        cur_year=cur_state+year+\"/\"\n",
    "        map_file_list=os.listdir(cur_year)\n",
    "        \n",
    "        for file in map_file_list:\n",
    "            cur_file=cur_year+file\n",
    "            data1=open(cur_file,\"r\")\n",
    "            \n",
    "            C=json.load(data1)\n",
    "            \n",
    "            for i in C[\"data\"][\"hoverDataList\"]:\n",
    "                    Name=i[\"name\"]\n",
    "                    count=i[\"metric\"][0][\"count\"]\n",
    "                    amount=i[\"metric\"][0][\"amount\"]\n",
    "                    columns3[\"Districts\"].append(Name)\n",
    "                    columns3[\"Transaction_count\"].append(count)\n",
    "                    columns3[\"Transaction_amount\"].append(amount)\n",
    "                    columns3[\"states\"].append(state)\n",
    "                    columns3[\"years\"].append(year)\n",
    "                    columns3[\"Quarter\"].append(int(file.strip(\".json\")))\n",
    "\n",
    "\n"
   ]
  },
  {
   "cell_type": "code",
   "execution_count": 7,
   "metadata": {},
   "outputs": [],
   "source": [
    "map_trans=pd.DataFrame(columns3)"
   ]
  },
  {
   "cell_type": "code",
   "execution_count": 39,
   "metadata": {},
   "outputs": [
    {
     "data": {
      "text/html": [
       "<div>\n",
       "<style scoped>\n",
       "    .dataframe tbody tr th:only-of-type {\n",
       "        vertical-align: middle;\n",
       "    }\n",
       "\n",
       "    .dataframe tbody tr th {\n",
       "        vertical-align: top;\n",
       "    }\n",
       "\n",
       "    .dataframe thead th {\n",
       "        text-align: right;\n",
       "    }\n",
       "</style>\n",
       "<table border=\"1\" class=\"dataframe\">\n",
       "  <thead>\n",
       "    <tr style=\"text-align: right;\">\n",
       "      <th></th>\n",
       "      <th>states</th>\n",
       "      <th>years</th>\n",
       "      <th>Quarter</th>\n",
       "      <th>Districts</th>\n",
       "      <th>Transaction_count</th>\n",
       "      <th>Transaction_amount</th>\n",
       "    </tr>\n",
       "  </thead>\n",
       "  <tbody>\n",
       "    <tr>\n",
       "      <th>0</th>\n",
       "      <td>andaman-&amp;-nicobar-islands</td>\n",
       "      <td>2018</td>\n",
       "      <td>1</td>\n",
       "      <td>north and middle andaman district</td>\n",
       "      <td>442</td>\n",
       "      <td>9.316631e+05</td>\n",
       "    </tr>\n",
       "    <tr>\n",
       "      <th>1</th>\n",
       "      <td>andaman-&amp;-nicobar-islands</td>\n",
       "      <td>2018</td>\n",
       "      <td>1</td>\n",
       "      <td>south andaman district</td>\n",
       "      <td>5688</td>\n",
       "      <td>1.256025e+07</td>\n",
       "    </tr>\n",
       "    <tr>\n",
       "      <th>2</th>\n",
       "      <td>andaman-&amp;-nicobar-islands</td>\n",
       "      <td>2018</td>\n",
       "      <td>1</td>\n",
       "      <td>nicobars district</td>\n",
       "      <td>528</td>\n",
       "      <td>1.139849e+06</td>\n",
       "    </tr>\n",
       "    <tr>\n",
       "      <th>3</th>\n",
       "      <td>andaman-&amp;-nicobar-islands</td>\n",
       "      <td>2018</td>\n",
       "      <td>2</td>\n",
       "      <td>north and middle andaman district</td>\n",
       "      <td>825</td>\n",
       "      <td>1.317863e+06</td>\n",
       "    </tr>\n",
       "    <tr>\n",
       "      <th>4</th>\n",
       "      <td>andaman-&amp;-nicobar-islands</td>\n",
       "      <td>2018</td>\n",
       "      <td>2</td>\n",
       "      <td>south andaman district</td>\n",
       "      <td>9395</td>\n",
       "      <td>2.394824e+07</td>\n",
       "    </tr>\n",
       "    <tr>\n",
       "      <th>...</th>\n",
       "      <td>...</td>\n",
       "      <td>...</td>\n",
       "      <td>...</td>\n",
       "      <td>...</td>\n",
       "      <td>...</td>\n",
       "      <td>...</td>\n",
       "    </tr>\n",
       "    <tr>\n",
       "      <th>16827</th>\n",
       "      <td>west-bengal</td>\n",
       "      <td>2023</td>\n",
       "      <td>3</td>\n",
       "      <td>nadia district</td>\n",
       "      <td>30146530</td>\n",
       "      <td>5.787869e+10</td>\n",
       "    </tr>\n",
       "    <tr>\n",
       "      <th>16828</th>\n",
       "      <td>west-bengal</td>\n",
       "      <td>2023</td>\n",
       "      <td>3</td>\n",
       "      <td>birbhum district</td>\n",
       "      <td>17597047</td>\n",
       "      <td>3.090737e+10</td>\n",
       "    </tr>\n",
       "    <tr>\n",
       "      <th>16829</th>\n",
       "      <td>west-bengal</td>\n",
       "      <td>2023</td>\n",
       "      <td>3</td>\n",
       "      <td>purba medinipur district</td>\n",
       "      <td>34244893</td>\n",
       "      <td>6.813718e+10</td>\n",
       "    </tr>\n",
       "    <tr>\n",
       "      <th>16830</th>\n",
       "      <td>west-bengal</td>\n",
       "      <td>2023</td>\n",
       "      <td>3</td>\n",
       "      <td>maldah district</td>\n",
       "      <td>28539407</td>\n",
       "      <td>5.299766e+10</td>\n",
       "    </tr>\n",
       "    <tr>\n",
       "      <th>16831</th>\n",
       "      <td>west-bengal</td>\n",
       "      <td>2023</td>\n",
       "      <td>3</td>\n",
       "      <td>darjiling district</td>\n",
       "      <td>14747572</td>\n",
       "      <td>2.463195e+10</td>\n",
       "    </tr>\n",
       "  </tbody>\n",
       "</table>\n",
       "<p>16832 rows × 6 columns</p>\n",
       "</div>"
      ],
      "text/plain": [
       "                          states years  Quarter  \\\n",
       "0      andaman-&-nicobar-islands  2018        1   \n",
       "1      andaman-&-nicobar-islands  2018        1   \n",
       "2      andaman-&-nicobar-islands  2018        1   \n",
       "3      andaman-&-nicobar-islands  2018        2   \n",
       "4      andaman-&-nicobar-islands  2018        2   \n",
       "...                          ...   ...      ...   \n",
       "16827                west-bengal  2023        3   \n",
       "16828                west-bengal  2023        3   \n",
       "16829                west-bengal  2023        3   \n",
       "16830                west-bengal  2023        3   \n",
       "16831                west-bengal  2023        3   \n",
       "\n",
       "                               Districts  Transaction_count  \\\n",
       "0      north and middle andaman district                442   \n",
       "1                 south andaman district               5688   \n",
       "2                      nicobars district                528   \n",
       "3      north and middle andaman district                825   \n",
       "4                 south andaman district               9395   \n",
       "...                                  ...                ...   \n",
       "16827                     nadia district           30146530   \n",
       "16828                   birbhum district           17597047   \n",
       "16829           purba medinipur district           34244893   \n",
       "16830                    maldah district           28539407   \n",
       "16831                 darjiling district           14747572   \n",
       "\n",
       "       Transaction_amount  \n",
       "0            9.316631e+05  \n",
       "1            1.256025e+07  \n",
       "2            1.139849e+06  \n",
       "3            1.317863e+06  \n",
       "4            2.394824e+07  \n",
       "...                   ...  \n",
       "16827        5.787869e+10  \n",
       "16828        3.090737e+10  \n",
       "16829        6.813718e+10  \n",
       "16830        5.299766e+10  \n",
       "16831        2.463195e+10  \n",
       "\n",
       "[16832 rows x 6 columns]"
      ]
     },
     "execution_count": 39,
     "metadata": {},
     "output_type": "execute_result"
    }
   ],
   "source": [
    "map_trans"
   ]
  },
  {
   "cell_type": "code",
   "execution_count": 70,
   "metadata": {},
   "outputs": [],
   "source": [
    "\n",
    "states_mapping= {'andaman-&-nicobar-islands':'Andaman & Nicobar', 'andhra-pradesh':'Andhra Pradesh', 'arunachal-pradesh':'Arunachal Pradesh','assam':'Assam','bihar':'Bihar',\n",
    "                    'chandigarh':'Chandigarh', 'chhattisgarh':'Chhattisgarh', 'dadra-&-nagar-haveli-&-daman-&-diu':'Dadra and Nagar Haveli and Daman and Diu', 'delhi':'Delhi',\n",
    "                    'goa':'Goa', 'gujarat':'Gujarat', 'haryana':'Haryana', 'himachal-pradesh':'Himachal Pradesh', 'jammu-&-kashmir':'Jammu & Kashmir', 'jharkhand':'Jharkhand',\n",
    "                    'karnataka':'Karnataka', 'kerala':'Kerala', 'ladakh':'Ladakh', 'lakshadweep':'Lakshadweep', 'madhya-pradesh':'Madhya Pradesh', 'maharashtra':'Maharashtra',\n",
    "                    'manipur':'Manipur', 'meghalaya':'Meghalaya', 'mizoram':'Mizoram', 'nagaland':'Nagaland', 'odisha':'Odisha', 'puducherry':'Puducherry', 'punjab':'Punjab',\n",
    "                    'rajasthan':'Rajasthan', 'sikkim':'Sikkim', 'tamil-nadu':'Tamil Nadu', 'telangana':'Telangana', 'tripura':'Tripura', 'uttar-pradesh':'Uttar Pradesh',\n",
    "                    'uttarakhand':'Uttarakhand', 'west-bengal':'West Bengal'}\n",
    "map_trans['states'].replace(states_mapping, inplace=True)"
   ]
  },
  {
   "cell_type": "code",
   "execution_count": 71,
   "metadata": {},
   "outputs": [
    {
     "data": {
      "text/html": [
       "<div>\n",
       "<style scoped>\n",
       "    .dataframe tbody tr th:only-of-type {\n",
       "        vertical-align: middle;\n",
       "    }\n",
       "\n",
       "    .dataframe tbody tr th {\n",
       "        vertical-align: top;\n",
       "    }\n",
       "\n",
       "    .dataframe thead th {\n",
       "        text-align: right;\n",
       "    }\n",
       "</style>\n",
       "<table border=\"1\" class=\"dataframe\">\n",
       "  <thead>\n",
       "    <tr style=\"text-align: right;\">\n",
       "      <th></th>\n",
       "      <th>states</th>\n",
       "      <th>years</th>\n",
       "      <th>Quarter</th>\n",
       "      <th>Districts</th>\n",
       "      <th>Transaction_count</th>\n",
       "      <th>Transaction_amount</th>\n",
       "    </tr>\n",
       "  </thead>\n",
       "  <tbody>\n",
       "    <tr>\n",
       "      <th>0</th>\n",
       "      <td>Andaman &amp; Nicobar</td>\n",
       "      <td>2018</td>\n",
       "      <td>1</td>\n",
       "      <td>north and middle andaman district</td>\n",
       "      <td>442</td>\n",
       "      <td>9.316631e+05</td>\n",
       "    </tr>\n",
       "    <tr>\n",
       "      <th>1</th>\n",
       "      <td>Andaman &amp; Nicobar</td>\n",
       "      <td>2018</td>\n",
       "      <td>1</td>\n",
       "      <td>south andaman district</td>\n",
       "      <td>5688</td>\n",
       "      <td>1.256025e+07</td>\n",
       "    </tr>\n",
       "    <tr>\n",
       "      <th>2</th>\n",
       "      <td>Andaman &amp; Nicobar</td>\n",
       "      <td>2018</td>\n",
       "      <td>1</td>\n",
       "      <td>nicobars district</td>\n",
       "      <td>528</td>\n",
       "      <td>1.139849e+06</td>\n",
       "    </tr>\n",
       "    <tr>\n",
       "      <th>3</th>\n",
       "      <td>Andaman &amp; Nicobar</td>\n",
       "      <td>2018</td>\n",
       "      <td>2</td>\n",
       "      <td>north and middle andaman district</td>\n",
       "      <td>825</td>\n",
       "      <td>1.317863e+06</td>\n",
       "    </tr>\n",
       "    <tr>\n",
       "      <th>4</th>\n",
       "      <td>Andaman &amp; Nicobar</td>\n",
       "      <td>2018</td>\n",
       "      <td>2</td>\n",
       "      <td>south andaman district</td>\n",
       "      <td>9395</td>\n",
       "      <td>2.394824e+07</td>\n",
       "    </tr>\n",
       "    <tr>\n",
       "      <th>...</th>\n",
       "      <td>...</td>\n",
       "      <td>...</td>\n",
       "      <td>...</td>\n",
       "      <td>...</td>\n",
       "      <td>...</td>\n",
       "      <td>...</td>\n",
       "    </tr>\n",
       "    <tr>\n",
       "      <th>16827</th>\n",
       "      <td>West Bengal</td>\n",
       "      <td>2023</td>\n",
       "      <td>3</td>\n",
       "      <td>nadia district</td>\n",
       "      <td>30146530</td>\n",
       "      <td>5.787869e+10</td>\n",
       "    </tr>\n",
       "    <tr>\n",
       "      <th>16828</th>\n",
       "      <td>West Bengal</td>\n",
       "      <td>2023</td>\n",
       "      <td>3</td>\n",
       "      <td>birbhum district</td>\n",
       "      <td>17597047</td>\n",
       "      <td>3.090737e+10</td>\n",
       "    </tr>\n",
       "    <tr>\n",
       "      <th>16829</th>\n",
       "      <td>West Bengal</td>\n",
       "      <td>2023</td>\n",
       "      <td>3</td>\n",
       "      <td>purba medinipur district</td>\n",
       "      <td>34244893</td>\n",
       "      <td>6.813718e+10</td>\n",
       "    </tr>\n",
       "    <tr>\n",
       "      <th>16830</th>\n",
       "      <td>West Bengal</td>\n",
       "      <td>2023</td>\n",
       "      <td>3</td>\n",
       "      <td>maldah district</td>\n",
       "      <td>28539407</td>\n",
       "      <td>5.299766e+10</td>\n",
       "    </tr>\n",
       "    <tr>\n",
       "      <th>16831</th>\n",
       "      <td>West Bengal</td>\n",
       "      <td>2023</td>\n",
       "      <td>3</td>\n",
       "      <td>darjiling district</td>\n",
       "      <td>14747572</td>\n",
       "      <td>2.463195e+10</td>\n",
       "    </tr>\n",
       "  </tbody>\n",
       "</table>\n",
       "<p>16832 rows × 6 columns</p>\n",
       "</div>"
      ],
      "text/plain": [
       "                  states years  Quarter                          Districts  \\\n",
       "0      Andaman & Nicobar  2018        1  north and middle andaman district   \n",
       "1      Andaman & Nicobar  2018        1             south andaman district   \n",
       "2      Andaman & Nicobar  2018        1                  nicobars district   \n",
       "3      Andaman & Nicobar  2018        2  north and middle andaman district   \n",
       "4      Andaman & Nicobar  2018        2             south andaman district   \n",
       "...                  ...   ...      ...                                ...   \n",
       "16827        West Bengal  2023        3                     nadia district   \n",
       "16828        West Bengal  2023        3                   birbhum district   \n",
       "16829        West Bengal  2023        3           purba medinipur district   \n",
       "16830        West Bengal  2023        3                    maldah district   \n",
       "16831        West Bengal  2023        3                 darjiling district   \n",
       "\n",
       "       Transaction_count  Transaction_amount  \n",
       "0                    442        9.316631e+05  \n",
       "1                   5688        1.256025e+07  \n",
       "2                    528        1.139849e+06  \n",
       "3                    825        1.317863e+06  \n",
       "4                   9395        2.394824e+07  \n",
       "...                  ...                 ...  \n",
       "16827           30146530        5.787869e+10  \n",
       "16828           17597047        3.090737e+10  \n",
       "16829           34244893        6.813718e+10  \n",
       "16830           28539407        5.299766e+10  \n",
       "16831           14747572        2.463195e+10  \n",
       "\n",
       "[16832 rows x 6 columns]"
      ]
     },
     "execution_count": 71,
     "metadata": {},
     "output_type": "execute_result"
    }
   ],
   "source": [
    "map_trans"
   ]
  },
  {
   "cell_type": "code",
   "execution_count": 8,
   "metadata": {},
   "outputs": [],
   "source": [
    "#map user\n",
    "\n",
    "path4=\"C:/Users/Admin/Desktop/New folder/phonepe/pulse/data/map/user/hover/country/india/state/\"\n",
    "map_user_list= os.listdir(path4)\n",
    "\n",
    "columns4={\"states\":[], \"years\":[], \"Quarter\":[], \"Districts\":[], \"RegisteredUsers\":[], \"AppOpens\":[]}\n",
    "\n",
    "for state in map_user_list:\n",
    "    cur_state=path4+state+\"/\"\n",
    "    map_year_list=os.listdir(cur_state)\n",
    "    \n",
    "    for year in map_year_list:\n",
    "        cur_year=cur_state+year+\"/\"\n",
    "        map_file_list=os.listdir(cur_year)\n",
    "        \n",
    "        for file in map_file_list:\n",
    "            cur_file=cur_year+file\n",
    "            data1=open(cur_file,\"r\")\n",
    "            \n",
    "            D=json.load(data1)\n",
    "            for i in D[\"data\"][\"hoverData\"].items():\n",
    "                district=i[0]\n",
    "                registeredUsers=i[1][\"registeredUsers\"]\n",
    "                appOpens=i[1][\"appOpens\"]\n",
    "                columns4[\"Districts\"].append(district)\n",
    "                columns4[\"RegisteredUsers\"].append(registeredUsers)\n",
    "                columns4[\"AppOpens\"].append(appOpens)\n",
    "                columns4[\"states\"].append(state)\n",
    "                columns4[\"years\"].append(year)\n",
    "                columns4[\"Quarter\"].append(int(file.strip(\".json\")))\n",
    "                "
   ]
  },
  {
   "cell_type": "code",
   "execution_count": 9,
   "metadata": {},
   "outputs": [],
   "source": [
    "map_user=pd.DataFrame(columns4)"
   ]
  },
  {
   "cell_type": "code",
   "execution_count": 42,
   "metadata": {},
   "outputs": [
    {
     "data": {
      "text/html": [
       "<div>\n",
       "<style scoped>\n",
       "    .dataframe tbody tr th:only-of-type {\n",
       "        vertical-align: middle;\n",
       "    }\n",
       "\n",
       "    .dataframe tbody tr th {\n",
       "        vertical-align: top;\n",
       "    }\n",
       "\n",
       "    .dataframe thead th {\n",
       "        text-align: right;\n",
       "    }\n",
       "</style>\n",
       "<table border=\"1\" class=\"dataframe\">\n",
       "  <thead>\n",
       "    <tr style=\"text-align: right;\">\n",
       "      <th></th>\n",
       "      <th>states</th>\n",
       "      <th>years</th>\n",
       "      <th>Quarter</th>\n",
       "      <th>Districts</th>\n",
       "      <th>RegisteredUsers</th>\n",
       "      <th>AppOpens</th>\n",
       "    </tr>\n",
       "  </thead>\n",
       "  <tbody>\n",
       "    <tr>\n",
       "      <th>0</th>\n",
       "      <td>andaman-&amp;-nicobar-islands</td>\n",
       "      <td>2018</td>\n",
       "      <td>1</td>\n",
       "      <td>north and middle andaman district</td>\n",
       "      <td>632</td>\n",
       "      <td>0</td>\n",
       "    </tr>\n",
       "    <tr>\n",
       "      <th>1</th>\n",
       "      <td>andaman-&amp;-nicobar-islands</td>\n",
       "      <td>2018</td>\n",
       "      <td>1</td>\n",
       "      <td>south andaman district</td>\n",
       "      <td>5846</td>\n",
       "      <td>0</td>\n",
       "    </tr>\n",
       "    <tr>\n",
       "      <th>2</th>\n",
       "      <td>andaman-&amp;-nicobar-islands</td>\n",
       "      <td>2018</td>\n",
       "      <td>1</td>\n",
       "      <td>nicobars district</td>\n",
       "      <td>262</td>\n",
       "      <td>0</td>\n",
       "    </tr>\n",
       "    <tr>\n",
       "      <th>3</th>\n",
       "      <td>andaman-&amp;-nicobar-islands</td>\n",
       "      <td>2018</td>\n",
       "      <td>2</td>\n",
       "      <td>north and middle andaman district</td>\n",
       "      <td>911</td>\n",
       "      <td>0</td>\n",
       "    </tr>\n",
       "    <tr>\n",
       "      <th>4</th>\n",
       "      <td>andaman-&amp;-nicobar-islands</td>\n",
       "      <td>2018</td>\n",
       "      <td>2</td>\n",
       "      <td>south andaman district</td>\n",
       "      <td>8143</td>\n",
       "      <td>0</td>\n",
       "    </tr>\n",
       "    <tr>\n",
       "      <th>...</th>\n",
       "      <td>...</td>\n",
       "      <td>...</td>\n",
       "      <td>...</td>\n",
       "      <td>...</td>\n",
       "      <td>...</td>\n",
       "      <td>...</td>\n",
       "    </tr>\n",
       "    <tr>\n",
       "      <th>16831</th>\n",
       "      <td>west-bengal</td>\n",
       "      <td>2023</td>\n",
       "      <td>3</td>\n",
       "      <td>nadia district</td>\n",
       "      <td>1544294</td>\n",
       "      <td>12674328</td>\n",
       "    </tr>\n",
       "    <tr>\n",
       "      <th>16832</th>\n",
       "      <td>west-bengal</td>\n",
       "      <td>2023</td>\n",
       "      <td>3</td>\n",
       "      <td>birbhum district</td>\n",
       "      <td>974363</td>\n",
       "      <td>18961683</td>\n",
       "    </tr>\n",
       "    <tr>\n",
       "      <th>16833</th>\n",
       "      <td>west-bengal</td>\n",
       "      <td>2023</td>\n",
       "      <td>3</td>\n",
       "      <td>purba medinipur district</td>\n",
       "      <td>1530289</td>\n",
       "      <td>18593769</td>\n",
       "    </tr>\n",
       "    <tr>\n",
       "      <th>16834</th>\n",
       "      <td>west-bengal</td>\n",
       "      <td>2023</td>\n",
       "      <td>3</td>\n",
       "      <td>maldah district</td>\n",
       "      <td>1091634</td>\n",
       "      <td>28020285</td>\n",
       "    </tr>\n",
       "    <tr>\n",
       "      <th>16835</th>\n",
       "      <td>west-bengal</td>\n",
       "      <td>2023</td>\n",
       "      <td>3</td>\n",
       "      <td>darjiling district</td>\n",
       "      <td>637665</td>\n",
       "      <td>21732323</td>\n",
       "    </tr>\n",
       "  </tbody>\n",
       "</table>\n",
       "<p>16836 rows × 6 columns</p>\n",
       "</div>"
      ],
      "text/plain": [
       "                          states years  Quarter  \\\n",
       "0      andaman-&-nicobar-islands  2018        1   \n",
       "1      andaman-&-nicobar-islands  2018        1   \n",
       "2      andaman-&-nicobar-islands  2018        1   \n",
       "3      andaman-&-nicobar-islands  2018        2   \n",
       "4      andaman-&-nicobar-islands  2018        2   \n",
       "...                          ...   ...      ...   \n",
       "16831                west-bengal  2023        3   \n",
       "16832                west-bengal  2023        3   \n",
       "16833                west-bengal  2023        3   \n",
       "16834                west-bengal  2023        3   \n",
       "16835                west-bengal  2023        3   \n",
       "\n",
       "                               Districts  RegisteredUsers  AppOpens  \n",
       "0      north and middle andaman district              632         0  \n",
       "1                 south andaman district             5846         0  \n",
       "2                      nicobars district              262         0  \n",
       "3      north and middle andaman district              911         0  \n",
       "4                 south andaman district             8143         0  \n",
       "...                                  ...              ...       ...  \n",
       "16831                     nadia district          1544294  12674328  \n",
       "16832                   birbhum district           974363  18961683  \n",
       "16833           purba medinipur district          1530289  18593769  \n",
       "16834                    maldah district          1091634  28020285  \n",
       "16835                 darjiling district           637665  21732323  \n",
       "\n",
       "[16836 rows x 6 columns]"
      ]
     },
     "execution_count": 42,
     "metadata": {},
     "output_type": "execute_result"
    }
   ],
   "source": [
    "map_user"
   ]
  },
  {
   "cell_type": "code",
   "execution_count": 72,
   "metadata": {},
   "outputs": [],
   "source": [
    "\n",
    "states_mapping= {'andaman-&-nicobar-islands':'Andaman & Nicobar', 'andhra-pradesh':'Andhra Pradesh', 'arunachal-pradesh':'Arunachal Pradesh','assam':'Assam','bihar':'Bihar',\n",
    "                    'chandigarh':'Chandigarh', 'chhattisgarh':'Chhattisgarh', 'dadra-&-nagar-haveli-&-daman-&-diu':'Dadra and Nagar Haveli and Daman and Diu', 'delhi':'Delhi',\n",
    "                    'goa':'Goa', 'gujarat':'Gujarat', 'haryana':'Haryana', 'himachal-pradesh':'Himachal Pradesh', 'jammu-&-kashmir':'Jammu & Kashmir', 'jharkhand':'Jharkhand',\n",
    "                    'karnataka':'Karnataka', 'kerala':'Kerala', 'ladakh':'Ladakh', 'lakshadweep':'Lakshadweep', 'madhya-pradesh':'Madhya Pradesh', 'maharashtra':'Maharashtra',\n",
    "                    'manipur':'Manipur', 'meghalaya':'Meghalaya', 'mizoram':'Mizoram', 'nagaland':'Nagaland', 'odisha':'Odisha', 'puducherry':'Puducherry', 'punjab':'Punjab',\n",
    "                    'rajasthan':'Rajasthan', 'sikkim':'Sikkim', 'tamil-nadu':'Tamil Nadu', 'telangana':'Telangana', 'tripura':'Tripura', 'uttar-pradesh':'Uttar Pradesh',\n",
    "                    'uttarakhand':'Uttarakhand', 'west-bengal':'West Bengal'}\n",
    "map_user['states'].replace(states_mapping, inplace=True)"
   ]
  },
  {
   "cell_type": "code",
   "execution_count": 73,
   "metadata": {},
   "outputs": [
    {
     "data": {
      "text/html": [
       "<div>\n",
       "<style scoped>\n",
       "    .dataframe tbody tr th:only-of-type {\n",
       "        vertical-align: middle;\n",
       "    }\n",
       "\n",
       "    .dataframe tbody tr th {\n",
       "        vertical-align: top;\n",
       "    }\n",
       "\n",
       "    .dataframe thead th {\n",
       "        text-align: right;\n",
       "    }\n",
       "</style>\n",
       "<table border=\"1\" class=\"dataframe\">\n",
       "  <thead>\n",
       "    <tr style=\"text-align: right;\">\n",
       "      <th></th>\n",
       "      <th>states</th>\n",
       "      <th>years</th>\n",
       "      <th>Quarter</th>\n",
       "      <th>Districts</th>\n",
       "      <th>RegisteredUsers</th>\n",
       "      <th>AppOpens</th>\n",
       "    </tr>\n",
       "  </thead>\n",
       "  <tbody>\n",
       "    <tr>\n",
       "      <th>0</th>\n",
       "      <td>Andaman &amp; Nicobar</td>\n",
       "      <td>2018</td>\n",
       "      <td>1</td>\n",
       "      <td>north and middle andaman district</td>\n",
       "      <td>632</td>\n",
       "      <td>0</td>\n",
       "    </tr>\n",
       "    <tr>\n",
       "      <th>1</th>\n",
       "      <td>Andaman &amp; Nicobar</td>\n",
       "      <td>2018</td>\n",
       "      <td>1</td>\n",
       "      <td>south andaman district</td>\n",
       "      <td>5846</td>\n",
       "      <td>0</td>\n",
       "    </tr>\n",
       "    <tr>\n",
       "      <th>2</th>\n",
       "      <td>Andaman &amp; Nicobar</td>\n",
       "      <td>2018</td>\n",
       "      <td>1</td>\n",
       "      <td>nicobars district</td>\n",
       "      <td>262</td>\n",
       "      <td>0</td>\n",
       "    </tr>\n",
       "    <tr>\n",
       "      <th>3</th>\n",
       "      <td>Andaman &amp; Nicobar</td>\n",
       "      <td>2018</td>\n",
       "      <td>2</td>\n",
       "      <td>north and middle andaman district</td>\n",
       "      <td>911</td>\n",
       "      <td>0</td>\n",
       "    </tr>\n",
       "    <tr>\n",
       "      <th>4</th>\n",
       "      <td>Andaman &amp; Nicobar</td>\n",
       "      <td>2018</td>\n",
       "      <td>2</td>\n",
       "      <td>south andaman district</td>\n",
       "      <td>8143</td>\n",
       "      <td>0</td>\n",
       "    </tr>\n",
       "    <tr>\n",
       "      <th>...</th>\n",
       "      <td>...</td>\n",
       "      <td>...</td>\n",
       "      <td>...</td>\n",
       "      <td>...</td>\n",
       "      <td>...</td>\n",
       "      <td>...</td>\n",
       "    </tr>\n",
       "    <tr>\n",
       "      <th>16831</th>\n",
       "      <td>West Bengal</td>\n",
       "      <td>2023</td>\n",
       "      <td>3</td>\n",
       "      <td>nadia district</td>\n",
       "      <td>1544294</td>\n",
       "      <td>12674328</td>\n",
       "    </tr>\n",
       "    <tr>\n",
       "      <th>16832</th>\n",
       "      <td>West Bengal</td>\n",
       "      <td>2023</td>\n",
       "      <td>3</td>\n",
       "      <td>birbhum district</td>\n",
       "      <td>974363</td>\n",
       "      <td>18961683</td>\n",
       "    </tr>\n",
       "    <tr>\n",
       "      <th>16833</th>\n",
       "      <td>West Bengal</td>\n",
       "      <td>2023</td>\n",
       "      <td>3</td>\n",
       "      <td>purba medinipur district</td>\n",
       "      <td>1530289</td>\n",
       "      <td>18593769</td>\n",
       "    </tr>\n",
       "    <tr>\n",
       "      <th>16834</th>\n",
       "      <td>West Bengal</td>\n",
       "      <td>2023</td>\n",
       "      <td>3</td>\n",
       "      <td>maldah district</td>\n",
       "      <td>1091634</td>\n",
       "      <td>28020285</td>\n",
       "    </tr>\n",
       "    <tr>\n",
       "      <th>16835</th>\n",
       "      <td>West Bengal</td>\n",
       "      <td>2023</td>\n",
       "      <td>3</td>\n",
       "      <td>darjiling district</td>\n",
       "      <td>637665</td>\n",
       "      <td>21732323</td>\n",
       "    </tr>\n",
       "  </tbody>\n",
       "</table>\n",
       "<p>16836 rows × 6 columns</p>\n",
       "</div>"
      ],
      "text/plain": [
       "                  states years  Quarter                          Districts  \\\n",
       "0      Andaman & Nicobar  2018        1  north and middle andaman district   \n",
       "1      Andaman & Nicobar  2018        1             south andaman district   \n",
       "2      Andaman & Nicobar  2018        1                  nicobars district   \n",
       "3      Andaman & Nicobar  2018        2  north and middle andaman district   \n",
       "4      Andaman & Nicobar  2018        2             south andaman district   \n",
       "...                  ...   ...      ...                                ...   \n",
       "16831        West Bengal  2023        3                     nadia district   \n",
       "16832        West Bengal  2023        3                   birbhum district   \n",
       "16833        West Bengal  2023        3           purba medinipur district   \n",
       "16834        West Bengal  2023        3                    maldah district   \n",
       "16835        West Bengal  2023        3                 darjiling district   \n",
       "\n",
       "       RegisteredUsers  AppOpens  \n",
       "0                  632         0  \n",
       "1                 5846         0  \n",
       "2                  262         0  \n",
       "3                  911         0  \n",
       "4                 8143         0  \n",
       "...                ...       ...  \n",
       "16831          1544294  12674328  \n",
       "16832           974363  18961683  \n",
       "16833          1530289  18593769  \n",
       "16834          1091634  28020285  \n",
       "16835           637665  21732323  \n",
       "\n",
       "[16836 rows x 6 columns]"
      ]
     },
     "execution_count": 73,
     "metadata": {},
     "output_type": "execute_result"
    }
   ],
   "source": [
    "map_user"
   ]
  },
  {
   "cell_type": "code",
   "execution_count": 10,
   "metadata": {},
   "outputs": [],
   "source": [
    "#top_trans\n",
    "\n",
    "path5=\"C:/Users/Admin/Desktop/New folder/phonepe/pulse/data/top/transaction/country/india/state/\"\n",
    "top_trans_list= os.listdir(path5)\n",
    "\n",
    "columns5 = {\"states\":[], \"years\":[], \"Quarter\":[], \"Pincodes\":[], \"Transaction_count\":[], \"Transaction_amount\":[]}\n",
    "\n",
    "for state in top_trans_list:\n",
    "    cur_state=path5+state+\"/\"\n",
    "    top_year_list=os.listdir(cur_state)\n",
    "    \n",
    "    for year in top_year_list:\n",
    "        cur_year=cur_state+year+\"/\"\n",
    "        top_file_list=os.listdir(cur_year)\n",
    "        \n",
    "        for file in top_file_list:\n",
    "            cur_file=cur_year+file\n",
    "            data1=open(cur_file,\"r\")\n",
    "            E=json.load(data1)\n",
    "            \n",
    "            for i in E[\"data\"][\"pincodes\"]:\n",
    "                entityName=i[\"entityName\"]\n",
    "                count=i[\"metric\"][\"count\"]\n",
    "                amount=i[\"metric\"][\"amount\"]\n",
    "                columns5[\"Pincodes\"].append(entityName)\n",
    "                columns5[\"Transaction_count\"].append(count)\n",
    "                columns5[\"Transaction_amount\"].append(amount)\n",
    "                columns5[\"states\"].append(state)\n",
    "                columns5[\"years\"].append(year)\n",
    "                columns5[\"Quarter\"].append(int(file.strip(\".json\")))\n",
    "            \n",
    "\n",
    "\n"
   ]
  },
  {
   "cell_type": "code",
   "execution_count": 11,
   "metadata": {},
   "outputs": [],
   "source": [
    "top_trans=pd.DataFrame(columns5)"
   ]
  },
  {
   "cell_type": "code",
   "execution_count": 45,
   "metadata": {},
   "outputs": [
    {
     "data": {
      "text/html": [
       "<div>\n",
       "<style scoped>\n",
       "    .dataframe tbody tr th:only-of-type {\n",
       "        vertical-align: middle;\n",
       "    }\n",
       "\n",
       "    .dataframe tbody tr th {\n",
       "        vertical-align: top;\n",
       "    }\n",
       "\n",
       "    .dataframe thead th {\n",
       "        text-align: right;\n",
       "    }\n",
       "</style>\n",
       "<table border=\"1\" class=\"dataframe\">\n",
       "  <thead>\n",
       "    <tr style=\"text-align: right;\">\n",
       "      <th></th>\n",
       "      <th>states</th>\n",
       "      <th>years</th>\n",
       "      <th>Quarter</th>\n",
       "      <th>Pincodes</th>\n",
       "      <th>Transaction_count</th>\n",
       "      <th>Transaction_amount</th>\n",
       "    </tr>\n",
       "  </thead>\n",
       "  <tbody>\n",
       "    <tr>\n",
       "      <th>0</th>\n",
       "      <td>andaman-&amp;-nicobar-islands</td>\n",
       "      <td>2018</td>\n",
       "      <td>1</td>\n",
       "      <td>744101</td>\n",
       "      <td>1622</td>\n",
       "      <td>2.769298e+06</td>\n",
       "    </tr>\n",
       "    <tr>\n",
       "      <th>1</th>\n",
       "      <td>andaman-&amp;-nicobar-islands</td>\n",
       "      <td>2018</td>\n",
       "      <td>1</td>\n",
       "      <td>744103</td>\n",
       "      <td>1223</td>\n",
       "      <td>2.238042e+06</td>\n",
       "    </tr>\n",
       "    <tr>\n",
       "      <th>2</th>\n",
       "      <td>andaman-&amp;-nicobar-islands</td>\n",
       "      <td>2018</td>\n",
       "      <td>1</td>\n",
       "      <td>744102</td>\n",
       "      <td>969</td>\n",
       "      <td>3.519060e+06</td>\n",
       "    </tr>\n",
       "    <tr>\n",
       "      <th>3</th>\n",
       "      <td>andaman-&amp;-nicobar-islands</td>\n",
       "      <td>2018</td>\n",
       "      <td>1</td>\n",
       "      <td>744105</td>\n",
       "      <td>685</td>\n",
       "      <td>1.298561e+06</td>\n",
       "    </tr>\n",
       "    <tr>\n",
       "      <th>4</th>\n",
       "      <td>andaman-&amp;-nicobar-islands</td>\n",
       "      <td>2018</td>\n",
       "      <td>1</td>\n",
       "      <td>744104</td>\n",
       "      <td>340</td>\n",
       "      <td>1.039715e+06</td>\n",
       "    </tr>\n",
       "    <tr>\n",
       "      <th>...</th>\n",
       "      <td>...</td>\n",
       "      <td>...</td>\n",
       "      <td>...</td>\n",
       "      <td>...</td>\n",
       "      <td>...</td>\n",
       "      <td>...</td>\n",
       "    </tr>\n",
       "    <tr>\n",
       "      <th>8205</th>\n",
       "      <td>west-bengal</td>\n",
       "      <td>2023</td>\n",
       "      <td>3</td>\n",
       "      <td>700001</td>\n",
       "      <td>3536928</td>\n",
       "      <td>7.193522e+09</td>\n",
       "    </tr>\n",
       "    <tr>\n",
       "      <th>8206</th>\n",
       "      <td>west-bengal</td>\n",
       "      <td>2023</td>\n",
       "      <td>3</td>\n",
       "      <td>721301</td>\n",
       "      <td>3464729</td>\n",
       "      <td>4.871566e+09</td>\n",
       "    </tr>\n",
       "    <tr>\n",
       "      <th>8207</th>\n",
       "      <td>west-bengal</td>\n",
       "      <td>2023</td>\n",
       "      <td>3</td>\n",
       "      <td>700039</td>\n",
       "      <td>3405551</td>\n",
       "      <td>5.095825e+09</td>\n",
       "    </tr>\n",
       "    <tr>\n",
       "      <th>8208</th>\n",
       "      <td>west-bengal</td>\n",
       "      <td>2023</td>\n",
       "      <td>3</td>\n",
       "      <td>732125</td>\n",
       "      <td>3347165</td>\n",
       "      <td>5.353831e+09</td>\n",
       "    </tr>\n",
       "    <tr>\n",
       "      <th>8209</th>\n",
       "      <td>west-bengal</td>\n",
       "      <td>2023</td>\n",
       "      <td>3</td>\n",
       "      <td>700015</td>\n",
       "      <td>3304464</td>\n",
       "      <td>5.003674e+09</td>\n",
       "    </tr>\n",
       "  </tbody>\n",
       "</table>\n",
       "<p>8210 rows × 6 columns</p>\n",
       "</div>"
      ],
      "text/plain": [
       "                         states years  Quarter Pincodes  Transaction_count  \\\n",
       "0     andaman-&-nicobar-islands  2018        1   744101               1622   \n",
       "1     andaman-&-nicobar-islands  2018        1   744103               1223   \n",
       "2     andaman-&-nicobar-islands  2018        1   744102                969   \n",
       "3     andaman-&-nicobar-islands  2018        1   744105                685   \n",
       "4     andaman-&-nicobar-islands  2018        1   744104                340   \n",
       "...                         ...   ...      ...      ...                ...   \n",
       "8205                west-bengal  2023        3   700001            3536928   \n",
       "8206                west-bengal  2023        3   721301            3464729   \n",
       "8207                west-bengal  2023        3   700039            3405551   \n",
       "8208                west-bengal  2023        3   732125            3347165   \n",
       "8209                west-bengal  2023        3   700015            3304464   \n",
       "\n",
       "      Transaction_amount  \n",
       "0           2.769298e+06  \n",
       "1           2.238042e+06  \n",
       "2           3.519060e+06  \n",
       "3           1.298561e+06  \n",
       "4           1.039715e+06  \n",
       "...                  ...  \n",
       "8205        7.193522e+09  \n",
       "8206        4.871566e+09  \n",
       "8207        5.095825e+09  \n",
       "8208        5.353831e+09  \n",
       "8209        5.003674e+09  \n",
       "\n",
       "[8210 rows x 6 columns]"
      ]
     },
     "execution_count": 45,
     "metadata": {},
     "output_type": "execute_result"
    }
   ],
   "source": [
    "top_trans"
   ]
  },
  {
   "cell_type": "code",
   "execution_count": 74,
   "metadata": {},
   "outputs": [],
   "source": [
    "\n",
    "states_mapping= {'andaman-&-nicobar-islands':'Andaman & Nicobar', 'andhra-pradesh':'Andhra Pradesh', 'arunachal-pradesh':'Arunachal Pradesh','assam':'Assam','bihar':'Bihar',\n",
    "                    'chandigarh':'Chandigarh', 'chhattisgarh':'Chhattisgarh', 'dadra-&-nagar-haveli-&-daman-&-diu':'Dadra and Nagar Haveli and Daman and Diu', 'delhi':'Delhi',\n",
    "                    'goa':'Goa', 'gujarat':'Gujarat', 'haryana':'Haryana', 'himachal-pradesh':'Himachal Pradesh', 'jammu-&-kashmir':'Jammu & Kashmir', 'jharkhand':'Jharkhand',\n",
    "                    'karnataka':'Karnataka', 'kerala':'Kerala', 'ladakh':'Ladakh', 'lakshadweep':'Lakshadweep', 'madhya-pradesh':'Madhya Pradesh', 'maharashtra':'Maharashtra',\n",
    "                    'manipur':'Manipur', 'meghalaya':'Meghalaya', 'mizoram':'Mizoram', 'nagaland':'Nagaland', 'odisha':'Odisha', 'puducherry':'Puducherry', 'punjab':'Punjab',\n",
    "                    'rajasthan':'Rajasthan', 'sikkim':'Sikkim', 'tamil-nadu':'Tamil Nadu', 'telangana':'Telangana', 'tripura':'Tripura', 'uttar-pradesh':'Uttar Pradesh',\n",
    "                    'uttarakhand':'Uttarakhand', 'west-bengal':'West Bengal'}\n",
    "top_trans['states'].replace(states_mapping, inplace=True)"
   ]
  },
  {
   "cell_type": "code",
   "execution_count": 75,
   "metadata": {},
   "outputs": [
    {
     "data": {
      "text/html": [
       "<div>\n",
       "<style scoped>\n",
       "    .dataframe tbody tr th:only-of-type {\n",
       "        vertical-align: middle;\n",
       "    }\n",
       "\n",
       "    .dataframe tbody tr th {\n",
       "        vertical-align: top;\n",
       "    }\n",
       "\n",
       "    .dataframe thead th {\n",
       "        text-align: right;\n",
       "    }\n",
       "</style>\n",
       "<table border=\"1\" class=\"dataframe\">\n",
       "  <thead>\n",
       "    <tr style=\"text-align: right;\">\n",
       "      <th></th>\n",
       "      <th>states</th>\n",
       "      <th>years</th>\n",
       "      <th>Quarter</th>\n",
       "      <th>Pincodes</th>\n",
       "      <th>Transaction_count</th>\n",
       "      <th>Transaction_amount</th>\n",
       "    </tr>\n",
       "  </thead>\n",
       "  <tbody>\n",
       "    <tr>\n",
       "      <th>0</th>\n",
       "      <td>Andaman &amp; Nicobar</td>\n",
       "      <td>2018</td>\n",
       "      <td>1</td>\n",
       "      <td>744101</td>\n",
       "      <td>1622</td>\n",
       "      <td>2.769298e+06</td>\n",
       "    </tr>\n",
       "    <tr>\n",
       "      <th>1</th>\n",
       "      <td>Andaman &amp; Nicobar</td>\n",
       "      <td>2018</td>\n",
       "      <td>1</td>\n",
       "      <td>744103</td>\n",
       "      <td>1223</td>\n",
       "      <td>2.238042e+06</td>\n",
       "    </tr>\n",
       "    <tr>\n",
       "      <th>2</th>\n",
       "      <td>Andaman &amp; Nicobar</td>\n",
       "      <td>2018</td>\n",
       "      <td>1</td>\n",
       "      <td>744102</td>\n",
       "      <td>969</td>\n",
       "      <td>3.519060e+06</td>\n",
       "    </tr>\n",
       "    <tr>\n",
       "      <th>3</th>\n",
       "      <td>Andaman &amp; Nicobar</td>\n",
       "      <td>2018</td>\n",
       "      <td>1</td>\n",
       "      <td>744105</td>\n",
       "      <td>685</td>\n",
       "      <td>1.298561e+06</td>\n",
       "    </tr>\n",
       "    <tr>\n",
       "      <th>4</th>\n",
       "      <td>Andaman &amp; Nicobar</td>\n",
       "      <td>2018</td>\n",
       "      <td>1</td>\n",
       "      <td>744104</td>\n",
       "      <td>340</td>\n",
       "      <td>1.039715e+06</td>\n",
       "    </tr>\n",
       "    <tr>\n",
       "      <th>...</th>\n",
       "      <td>...</td>\n",
       "      <td>...</td>\n",
       "      <td>...</td>\n",
       "      <td>...</td>\n",
       "      <td>...</td>\n",
       "      <td>...</td>\n",
       "    </tr>\n",
       "    <tr>\n",
       "      <th>8205</th>\n",
       "      <td>West Bengal</td>\n",
       "      <td>2023</td>\n",
       "      <td>3</td>\n",
       "      <td>700001</td>\n",
       "      <td>3536928</td>\n",
       "      <td>7.193522e+09</td>\n",
       "    </tr>\n",
       "    <tr>\n",
       "      <th>8206</th>\n",
       "      <td>West Bengal</td>\n",
       "      <td>2023</td>\n",
       "      <td>3</td>\n",
       "      <td>721301</td>\n",
       "      <td>3464729</td>\n",
       "      <td>4.871566e+09</td>\n",
       "    </tr>\n",
       "    <tr>\n",
       "      <th>8207</th>\n",
       "      <td>West Bengal</td>\n",
       "      <td>2023</td>\n",
       "      <td>3</td>\n",
       "      <td>700039</td>\n",
       "      <td>3405551</td>\n",
       "      <td>5.095825e+09</td>\n",
       "    </tr>\n",
       "    <tr>\n",
       "      <th>8208</th>\n",
       "      <td>West Bengal</td>\n",
       "      <td>2023</td>\n",
       "      <td>3</td>\n",
       "      <td>732125</td>\n",
       "      <td>3347165</td>\n",
       "      <td>5.353831e+09</td>\n",
       "    </tr>\n",
       "    <tr>\n",
       "      <th>8209</th>\n",
       "      <td>West Bengal</td>\n",
       "      <td>2023</td>\n",
       "      <td>3</td>\n",
       "      <td>700015</td>\n",
       "      <td>3304464</td>\n",
       "      <td>5.003674e+09</td>\n",
       "    </tr>\n",
       "  </tbody>\n",
       "</table>\n",
       "<p>8210 rows × 6 columns</p>\n",
       "</div>"
      ],
      "text/plain": [
       "                 states years  Quarter Pincodes  Transaction_count  \\\n",
       "0     Andaman & Nicobar  2018        1   744101               1622   \n",
       "1     Andaman & Nicobar  2018        1   744103               1223   \n",
       "2     Andaman & Nicobar  2018        1   744102                969   \n",
       "3     Andaman & Nicobar  2018        1   744105                685   \n",
       "4     Andaman & Nicobar  2018        1   744104                340   \n",
       "...                 ...   ...      ...      ...                ...   \n",
       "8205        West Bengal  2023        3   700001            3536928   \n",
       "8206        West Bengal  2023        3   721301            3464729   \n",
       "8207        West Bengal  2023        3   700039            3405551   \n",
       "8208        West Bengal  2023        3   732125            3347165   \n",
       "8209        West Bengal  2023        3   700015            3304464   \n",
       "\n",
       "      Transaction_amount  \n",
       "0           2.769298e+06  \n",
       "1           2.238042e+06  \n",
       "2           3.519060e+06  \n",
       "3           1.298561e+06  \n",
       "4           1.039715e+06  \n",
       "...                  ...  \n",
       "8205        7.193522e+09  \n",
       "8206        4.871566e+09  \n",
       "8207        5.095825e+09  \n",
       "8208        5.353831e+09  \n",
       "8209        5.003674e+09  \n",
       "\n",
       "[8210 rows x 6 columns]"
      ]
     },
     "execution_count": 75,
     "metadata": {},
     "output_type": "execute_result"
    }
   ],
   "source": [
    "top_trans"
   ]
  },
  {
   "cell_type": "code",
   "execution_count": 12,
   "metadata": {},
   "outputs": [],
   "source": [
    "#top_user\n",
    "\n",
    "path6=\"C:/Users/Admin/Desktop/New folder/phonepe/pulse/data/top/user/country/india/state/\"\n",
    "top_user_list= os.listdir(path6)\n",
    "\n",
    "columns6 = {\"states\":[], \"years\":[], \"Quarter\":[], \"Pincodes\":[], \"RegisteredUser\":[]}\n",
    "\n",
    "for state in top_user_list:\n",
    "    cur_state=path6+state+\"/\"\n",
    "    top_year_list=os.listdir(cur_state)\n",
    "    \n",
    "    for year in top_year_list:\n",
    "        cur_year=cur_state+year+\"/\"\n",
    "        top_file_list=os.listdir(cur_year)\n",
    "        \n",
    "        for file in top_file_list:\n",
    "            cur_file=cur_year+file\n",
    "            data1=open(cur_file,\"r\")\n",
    "            F=json.load(data1)\n",
    "            \n",
    "            for i in F[\"data\"][\"pincodes\"]:\n",
    "                Name = i[\"name\"]\n",
    "                Registereduser = i[\"registeredUsers\"]\n",
    "                columns6[\"Pincodes\"].append(Name)\n",
    "                columns6[\"RegisteredUser\"].append(Registereduser)\n",
    "                columns6[\"states\"].append(state)\n",
    "                columns6[\"years\"].append(year)\n",
    "                columns6[\"Quarter\"].append(int(file.strip(\".json\")))\n",
    "\n",
    "\n"
   ]
  },
  {
   "cell_type": "code",
   "execution_count": 13,
   "metadata": {},
   "outputs": [],
   "source": [
    "top_user=pd.DataFrame(columns6)"
   ]
  },
  {
   "cell_type": "code",
   "execution_count": 48,
   "metadata": {},
   "outputs": [
    {
     "data": {
      "text/html": [
       "<div>\n",
       "<style scoped>\n",
       "    .dataframe tbody tr th:only-of-type {\n",
       "        vertical-align: middle;\n",
       "    }\n",
       "\n",
       "    .dataframe tbody tr th {\n",
       "        vertical-align: top;\n",
       "    }\n",
       "\n",
       "    .dataframe thead th {\n",
       "        text-align: right;\n",
       "    }\n",
       "</style>\n",
       "<table border=\"1\" class=\"dataframe\">\n",
       "  <thead>\n",
       "    <tr style=\"text-align: right;\">\n",
       "      <th></th>\n",
       "      <th>states</th>\n",
       "      <th>years</th>\n",
       "      <th>Quarter</th>\n",
       "      <th>Pincodes</th>\n",
       "      <th>RegisteredUser</th>\n",
       "    </tr>\n",
       "  </thead>\n",
       "  <tbody>\n",
       "    <tr>\n",
       "      <th>0</th>\n",
       "      <td>andaman-&amp;-nicobar-islands</td>\n",
       "      <td>2018</td>\n",
       "      <td>1</td>\n",
       "      <td>744103</td>\n",
       "      <td>1608</td>\n",
       "    </tr>\n",
       "    <tr>\n",
       "      <th>1</th>\n",
       "      <td>andaman-&amp;-nicobar-islands</td>\n",
       "      <td>2018</td>\n",
       "      <td>1</td>\n",
       "      <td>744101</td>\n",
       "      <td>1108</td>\n",
       "    </tr>\n",
       "    <tr>\n",
       "      <th>2</th>\n",
       "      <td>andaman-&amp;-nicobar-islands</td>\n",
       "      <td>2018</td>\n",
       "      <td>1</td>\n",
       "      <td>744105</td>\n",
       "      <td>1075</td>\n",
       "    </tr>\n",
       "    <tr>\n",
       "      <th>3</th>\n",
       "      <td>andaman-&amp;-nicobar-islands</td>\n",
       "      <td>2018</td>\n",
       "      <td>1</td>\n",
       "      <td>744102</td>\n",
       "      <td>1006</td>\n",
       "    </tr>\n",
       "    <tr>\n",
       "      <th>4</th>\n",
       "      <td>andaman-&amp;-nicobar-islands</td>\n",
       "      <td>2018</td>\n",
       "      <td>1</td>\n",
       "      <td>744104</td>\n",
       "      <td>272</td>\n",
       "    </tr>\n",
       "    <tr>\n",
       "      <th>...</th>\n",
       "      <td>...</td>\n",
       "      <td>...</td>\n",
       "      <td>...</td>\n",
       "      <td>...</td>\n",
       "      <td>...</td>\n",
       "    </tr>\n",
       "    <tr>\n",
       "      <th>8206</th>\n",
       "      <td>west-bengal</td>\n",
       "      <td>2023</td>\n",
       "      <td>3</td>\n",
       "      <td>700015</td>\n",
       "      <td>122316</td>\n",
       "    </tr>\n",
       "    <tr>\n",
       "      <th>8207</th>\n",
       "      <td>west-bengal</td>\n",
       "      <td>2023</td>\n",
       "      <td>3</td>\n",
       "      <td>742304</td>\n",
       "      <td>119245</td>\n",
       "    </tr>\n",
       "    <tr>\n",
       "      <th>8208</th>\n",
       "      <td>west-bengal</td>\n",
       "      <td>2023</td>\n",
       "      <td>3</td>\n",
       "      <td>721101</td>\n",
       "      <td>118798</td>\n",
       "    </tr>\n",
       "    <tr>\n",
       "      <th>8209</th>\n",
       "      <td>west-bengal</td>\n",
       "      <td>2023</td>\n",
       "      <td>3</td>\n",
       "      <td>700150</td>\n",
       "      <td>114987</td>\n",
       "    </tr>\n",
       "    <tr>\n",
       "      <th>8210</th>\n",
       "      <td>west-bengal</td>\n",
       "      <td>2023</td>\n",
       "      <td>3</td>\n",
       "      <td>734006</td>\n",
       "      <td>113991</td>\n",
       "    </tr>\n",
       "  </tbody>\n",
       "</table>\n",
       "<p>8211 rows × 5 columns</p>\n",
       "</div>"
      ],
      "text/plain": [
       "                         states years  Quarter Pincodes  RegisteredUser\n",
       "0     andaman-&-nicobar-islands  2018        1   744103            1608\n",
       "1     andaman-&-nicobar-islands  2018        1   744101            1108\n",
       "2     andaman-&-nicobar-islands  2018        1   744105            1075\n",
       "3     andaman-&-nicobar-islands  2018        1   744102            1006\n",
       "4     andaman-&-nicobar-islands  2018        1   744104             272\n",
       "...                         ...   ...      ...      ...             ...\n",
       "8206                west-bengal  2023        3   700015          122316\n",
       "8207                west-bengal  2023        3   742304          119245\n",
       "8208                west-bengal  2023        3   721101          118798\n",
       "8209                west-bengal  2023        3   700150          114987\n",
       "8210                west-bengal  2023        3   734006          113991\n",
       "\n",
       "[8211 rows x 5 columns]"
      ]
     },
     "execution_count": 48,
     "metadata": {},
     "output_type": "execute_result"
    }
   ],
   "source": [
    "top_user"
   ]
  },
  {
   "cell_type": "code",
   "execution_count": 76,
   "metadata": {},
   "outputs": [],
   "source": [
    "\n",
    "states_mapping= {'andaman-&-nicobar-islands':'Andaman & Nicobar', 'andhra-pradesh':'Andhra Pradesh', 'arunachal-pradesh':'Arunachal Pradesh','assam':'Assam','bihar':'Bihar',\n",
    "                    'chandigarh':'Chandigarh', 'chhattisgarh':'Chhattisgarh', 'dadra-&-nagar-haveli-&-daman-&-diu':'Dadra and Nagar Haveli and Daman and Diu', 'delhi':'Delhi',\n",
    "                    'goa':'Goa', 'gujarat':'Gujarat', 'haryana':'Haryana', 'himachal-pradesh':'Himachal Pradesh', 'jammu-&-kashmir':'Jammu & Kashmir', 'jharkhand':'Jharkhand',\n",
    "                    'karnataka':'Karnataka', 'kerala':'Kerala', 'ladakh':'Ladakh', 'lakshadweep':'Lakshadweep', 'madhya-pradesh':'Madhya Pradesh', 'maharashtra':'Maharashtra',\n",
    "                    'manipur':'Manipur', 'meghalaya':'Meghalaya', 'mizoram':'Mizoram', 'nagaland':'Nagaland', 'odisha':'Odisha', 'puducherry':'Puducherry', 'punjab':'Punjab',\n",
    "                    'rajasthan':'Rajasthan', 'sikkim':'Sikkim', 'tamil-nadu':'Tamil Nadu', 'telangana':'Telangana', 'tripura':'Tripura', 'uttar-pradesh':'Uttar Pradesh',\n",
    "                    'uttarakhand':'Uttarakhand', 'west-bengal':'West Bengal'}\n",
    "top_user['states'].replace(states_mapping, inplace=True)"
   ]
  },
  {
   "cell_type": "code",
   "execution_count": 77,
   "metadata": {},
   "outputs": [
    {
     "data": {
      "text/html": [
       "<div>\n",
       "<style scoped>\n",
       "    .dataframe tbody tr th:only-of-type {\n",
       "        vertical-align: middle;\n",
       "    }\n",
       "\n",
       "    .dataframe tbody tr th {\n",
       "        vertical-align: top;\n",
       "    }\n",
       "\n",
       "    .dataframe thead th {\n",
       "        text-align: right;\n",
       "    }\n",
       "</style>\n",
       "<table border=\"1\" class=\"dataframe\">\n",
       "  <thead>\n",
       "    <tr style=\"text-align: right;\">\n",
       "      <th></th>\n",
       "      <th>states</th>\n",
       "      <th>years</th>\n",
       "      <th>Quarter</th>\n",
       "      <th>Pincodes</th>\n",
       "      <th>RegisteredUser</th>\n",
       "    </tr>\n",
       "  </thead>\n",
       "  <tbody>\n",
       "    <tr>\n",
       "      <th>0</th>\n",
       "      <td>Andaman &amp; Nicobar</td>\n",
       "      <td>2018</td>\n",
       "      <td>1</td>\n",
       "      <td>744103</td>\n",
       "      <td>1608</td>\n",
       "    </tr>\n",
       "    <tr>\n",
       "      <th>1</th>\n",
       "      <td>Andaman &amp; Nicobar</td>\n",
       "      <td>2018</td>\n",
       "      <td>1</td>\n",
       "      <td>744101</td>\n",
       "      <td>1108</td>\n",
       "    </tr>\n",
       "    <tr>\n",
       "      <th>2</th>\n",
       "      <td>Andaman &amp; Nicobar</td>\n",
       "      <td>2018</td>\n",
       "      <td>1</td>\n",
       "      <td>744105</td>\n",
       "      <td>1075</td>\n",
       "    </tr>\n",
       "    <tr>\n",
       "      <th>3</th>\n",
       "      <td>Andaman &amp; Nicobar</td>\n",
       "      <td>2018</td>\n",
       "      <td>1</td>\n",
       "      <td>744102</td>\n",
       "      <td>1006</td>\n",
       "    </tr>\n",
       "    <tr>\n",
       "      <th>4</th>\n",
       "      <td>Andaman &amp; Nicobar</td>\n",
       "      <td>2018</td>\n",
       "      <td>1</td>\n",
       "      <td>744104</td>\n",
       "      <td>272</td>\n",
       "    </tr>\n",
       "    <tr>\n",
       "      <th>...</th>\n",
       "      <td>...</td>\n",
       "      <td>...</td>\n",
       "      <td>...</td>\n",
       "      <td>...</td>\n",
       "      <td>...</td>\n",
       "    </tr>\n",
       "    <tr>\n",
       "      <th>8206</th>\n",
       "      <td>West Bengal</td>\n",
       "      <td>2023</td>\n",
       "      <td>3</td>\n",
       "      <td>700015</td>\n",
       "      <td>122316</td>\n",
       "    </tr>\n",
       "    <tr>\n",
       "      <th>8207</th>\n",
       "      <td>West Bengal</td>\n",
       "      <td>2023</td>\n",
       "      <td>3</td>\n",
       "      <td>742304</td>\n",
       "      <td>119245</td>\n",
       "    </tr>\n",
       "    <tr>\n",
       "      <th>8208</th>\n",
       "      <td>West Bengal</td>\n",
       "      <td>2023</td>\n",
       "      <td>3</td>\n",
       "      <td>721101</td>\n",
       "      <td>118798</td>\n",
       "    </tr>\n",
       "    <tr>\n",
       "      <th>8209</th>\n",
       "      <td>West Bengal</td>\n",
       "      <td>2023</td>\n",
       "      <td>3</td>\n",
       "      <td>700150</td>\n",
       "      <td>114987</td>\n",
       "    </tr>\n",
       "    <tr>\n",
       "      <th>8210</th>\n",
       "      <td>West Bengal</td>\n",
       "      <td>2023</td>\n",
       "      <td>3</td>\n",
       "      <td>734006</td>\n",
       "      <td>113991</td>\n",
       "    </tr>\n",
       "  </tbody>\n",
       "</table>\n",
       "<p>8211 rows × 5 columns</p>\n",
       "</div>"
      ],
      "text/plain": [
       "                 states years  Quarter Pincodes  RegisteredUser\n",
       "0     Andaman & Nicobar  2018        1   744103            1608\n",
       "1     Andaman & Nicobar  2018        1   744101            1108\n",
       "2     Andaman & Nicobar  2018        1   744105            1075\n",
       "3     Andaman & Nicobar  2018        1   744102            1006\n",
       "4     Andaman & Nicobar  2018        1   744104             272\n",
       "...                 ...   ...      ...      ...             ...\n",
       "8206        West Bengal  2023        3   700015          122316\n",
       "8207        West Bengal  2023        3   742304          119245\n",
       "8208        West Bengal  2023        3   721101          118798\n",
       "8209        West Bengal  2023        3   700150          114987\n",
       "8210        West Bengal  2023        3   734006          113991\n",
       "\n",
       "[8211 rows x 5 columns]"
      ]
     },
     "execution_count": 77,
     "metadata": {},
     "output_type": "execute_result"
    }
   ],
   "source": [
    "top_user"
   ]
  },
  {
   "cell_type": "code",
   "execution_count": 78,
   "metadata": {},
   "outputs": [],
   "source": [
    "#Converting Dataframes to CSV files\n",
    "\n",
    "agg_trans.to_csv('agg_trans.csv',index=False)\n",
    "agg_user.to_csv('agg_user.csv',index=False)\n",
    "map_trans.to_csv('map_trans.csv',index=False)\n",
    "map_user.to_csv('map_user.csv',index=False)\n",
    "top_trans.to_csv('top_trans.csv',index=False)\n",
    "top_user.to_csv('top_user.csv',index=False)"
   ]
  },
  {
   "cell_type": "code",
   "execution_count": 79,
   "metadata": {},
   "outputs": [
    {
     "name": "stdout",
     "output_type": "stream",
     "text": [
      "<mysql.connector.connection_cext.CMySQLConnection object at 0x000001B0F9D18DD0>\n"
     ]
    }
   ],
   "source": [
    "#sql connection\n",
    "\n",
    "mydb = mysql.connector.connect(\n",
    "host=\"localhost\",\n",
    "user=\"root\",\n",
    "password=\"\"\n",
    ")\n",
    "print(mydb)\n",
    "mycursor = mydb.cursor(buffered=True)"
   ]
  },
  {
   "cell_type": "code",
   "execution_count": 80,
   "metadata": {},
   "outputs": [],
   "source": [
    "mycursor.execute(\"create database if not exists phonepe_data\")\n",
    "mydb.commit()"
   ]
  },
  {
   "cell_type": "code",
   "execution_count": 81,
   "metadata": {},
   "outputs": [],
   "source": [
    "mycursor.execute(\"use phonepe_data\")\n",
    "mydb.commit()"
   ]
  },
  {
   "cell_type": "code",
   "execution_count": 82,
   "metadata": {},
   "outputs": [],
   "source": [
    "#creating table\n",
    "#agg trans table\n",
    "\n",
    "create_table1='''CREATE TABLE IF NOT EXISTS aggregated_transaction(states varchar(50),\n",
    "                                                                years int,\n",
    "                                                                Quarter int,\n",
    "                                                                Transaction_type varchar(50),\n",
    "                                                                Transaction_count bigint,\n",
    "                                                                Transaction_amount bigint\n",
    "                                                                )'''\n",
    "mycursor.execute(create_table1)\n",
    "mydb.commit()\n",
    "\n",
    "for index, row in agg_trans.iterrows():\n",
    "        query1='''insert into aggregated_transaction(states, years, Quarter, Transaction_type, Transaction_count, Transaction_amount)\n",
    "                                                        values(%s,%s,%s,%s,%s,%s)'''\n",
    "                                                        \n",
    "        values1=(row[\"states\"],\n",
    "        row[\"years\"],\n",
    "                row[\"Quarter\"],\n",
    "                row[\"Transaction_type\"],\n",
    "                row[\"Transaction_count\"],\n",
    "                row[\"Transaction_amount\"]\n",
    "                )\n",
    "        mycursor.execute(query1,values1)\n",
    "        mydb.commit()"
   ]
  },
  {
   "cell_type": "code",
   "execution_count": 83,
   "metadata": {},
   "outputs": [],
   "source": [
    "#agg user table\n",
    "\n",
    "create_table2='''CREATE TABLE IF NOT EXISTS aggregated_user(states varchar(50),\n",
    "                                                                years int,\n",
    "                                                                Quarter int,\n",
    "                                                                Brands varchar(50),\n",
    "                                                                Transaction_count bigint,\n",
    "                                                                Percentage float)'''\n",
    "mycursor.execute(create_table2)\n",
    "mydb.commit()\n",
    "\n",
    "for index,row in agg_user.iterrows():\n",
    "    query2 = '''INSERT INTO aggregated_user (states, years, Quarter, Brands, Transaction_count, Percentage)\n",
    "                                                        values(%s,%s,%s,%s,%s,%s)'''\n",
    "    values = (row[\"states\"],\n",
    "            row[\"years\"],\n",
    "            row[\"Quarter\"],\n",
    "            row[\"Brands\"],\n",
    "            row[\"Transaction_count\"],\n",
    "            row[\"Percentage\"])\n",
    "    mycursor.execute(query2,values)\n",
    "    mydb.commit()\n"
   ]
  },
  {
   "cell_type": "code",
   "execution_count": 84,
   "metadata": {},
   "outputs": [],
   "source": [
    "#map trans table\n",
    "create_table3='''CREATE TABLE IF NOT EXISTS map_transaction (states varchar(50),\n",
    "                                                                years int,\n",
    "                                                                Quarter int,\n",
    "                                                                Districts varchar(50),\n",
    "                                                                Transaction_count bigint,\n",
    "                                                                Transaction_amount float)'''\n",
    "mycursor.execute(create_table3)\n",
    "mydb.commit()\n",
    "\n",
    "for index,row in map_trans.iterrows():\n",
    "    query3 = '''INSERT INTO map_Transaction (states, years, Quarter, Districts, Transaction_count, Transaction_amount)\n",
    "                                                VALUES (%s, %s, %s, %s, %s, %s)'''\n",
    "    values = (\n",
    "        row['states'],\n",
    "        row['years'],\n",
    "        row['Quarter'],\n",
    "        row['Districts'],\n",
    "        row['Transaction_count'],\n",
    "        row['Transaction_amount']\n",
    "    )\n",
    "    mycursor.execute(query3,values)\n",
    "    mydb.commit() \n"
   ]
  },
  {
   "cell_type": "code",
   "execution_count": 85,
   "metadata": {},
   "outputs": [],
   "source": [
    "#map user table\n",
    "create_table4='''CREATE TABLE IF NOT EXISTS map_user (states varchar(50),\n",
    "                                                        years int,\n",
    "                                                        Quarter int,\n",
    "                                                        Districts varchar(50),\n",
    "                                                        RegisteredUsers bigint,\n",
    "                                                        AppOpens bigint)'''\n",
    "mycursor.execute(create_table4)\n",
    "mydb.commit()\n",
    "\n",
    "for index,row in map_user.iterrows():\n",
    "    query4 = '''INSERT INTO map_user (states, years, Quarter, Districts, RegisteredUsers, AppOpens)\n",
    "                    values(%s,%s,%s,%s,%s,%s)'''\n",
    "    values = (row[\"states\"],\n",
    "            row[\"years\"],\n",
    "            row[\"Quarter\"],\n",
    "            row[\"Districts\"],\n",
    "            row[\"RegisteredUsers\"],\n",
    "            row[\"AppOpens\"])\n",
    "    mycursor.execute(query4,values)\n",
    "    mydb.commit()\n"
   ]
  },
  {
   "cell_type": "code",
   "execution_count": 86,
   "metadata": {},
   "outputs": [],
   "source": [
    "#top trans table\n",
    "\n",
    "create_table5='''CREATE TABLE IF NOT EXISTS top_transaction (states varchar(50),\n",
    "                                                                years int,\n",
    "                                                                Quarter int,\n",
    "                                                                Pincodes int,\n",
    "                                                                Transaction_count bigint,\n",
    "                                                                Transaction_amount bigint)'''\n",
    "mycursor.execute(create_table5)\n",
    "mydb.commit()\n",
    "\n",
    "for index,row in top_trans.iterrows():\n",
    "    query5 = '''INSERT INTO top_transaction (states, years, Quarter, Pincodes, Transaction_count, Transaction_amount)\n",
    "                                                    values(%s,%s,%s,%s,%s,%s)'''\n",
    "    values = (row[\"states\"],\n",
    "            row[\"years\"],\n",
    "            row[\"Quarter\"],\n",
    "            row[\"Pincodes\"],\n",
    "            row[\"Transaction_count\"],\n",
    "            row[\"Transaction_amount\"])\n",
    "    mycursor.execute(query5,values)\n",
    "    mydb.commit()"
   ]
  },
  {
   "cell_type": "code",
   "execution_count": 87,
   "metadata": {},
   "outputs": [],
   "source": [
    "#top user\n",
    "create_table6='''CREATE TABLE IF NOT EXISTS top_user (states varchar(50),\n",
    "                                                        years int,\n",
    "                                                        Quarter int,\n",
    "                                                        Pincodes int,\n",
    "                                                        RegisteredUser bigint\n",
    "                                                        )'''\n",
    "mycursor.execute(create_table6)\n",
    "mydb.commit()\n",
    "\n",
    "for index,row in top_user.iterrows():\n",
    "        query6 = '''INSERT INTO top_user (states, years, Quarter, Pincodes, RegisteredUser)\n",
    "                                values(%s,%s,%s,%s,%s)'''\n",
    "        values = (row[\"states\"],\n",
    "                row[\"years\"],\n",
    "                row[\"Quarter\"],\n",
    "                row[\"Pincodes\"],\n",
    "                row[\"RegisteredUser\"])\n",
    "        mycursor.execute(query6,values)\n",
    "        mydb.commit()"
   ]
  },
  {
   "cell_type": "code",
   "execution_count": 88,
   "metadata": {},
   "outputs": [
    {
     "data": {
      "text/plain": [
       "DeltaGenerator(_root_container=1, _parent=DeltaGenerator())"
      ]
     },
     "execution_count": 88,
     "metadata": {},
     "output_type": "execute_result"
    }
   ],
   "source": [
    "# Setting up page configuration\n",
    "icon = Image.open(\"icon.png\")\n",
    "st.set_page_config(page_title= \"Phonepe Pulse Data Visualization And Exploration\",\n",
    "                page_icon= icon,\n",
    "                layout= \"wide\",\n",
    "                initial_sidebar_state= \"expanded\",\n",
    "                menu_items={'About': \"\"\"Data has been cloned from Phonepe Pulse Github Repo\"\"\"})\n",
    "\n",
    "st.sidebar.header(\":wave: :violet[**Hello! Welcome to the dashboard**]\")"
   ]
  },
  {
   "cell_type": "code",
   "execution_count": 89,
   "metadata": {},
   "outputs": [
    {
     "name": "stdout",
     "output_type": "stream",
     "text": [
      "<mysql.connector.connection_cext.CMySQLConnection object at 0x000001B0F9E0E420>\n"
     ]
    }
   ],
   "source": [
    "mydb = mysql.connector.connect(\n",
    "host=\"localhost\",\n",
    "user=\"root\",\n",
    "password=\"\"\n",
    ")\n",
    "print(mydb)\n",
    "mycursor = mydb.cursor(buffered=True)"
   ]
  },
  {
   "cell_type": "code",
   "execution_count": 90,
   "metadata": {},
   "outputs": [],
   "source": [
    "mycursor.execute(\"use phonepe_data\")\n",
    "mydb.commit()"
   ]
  },
  {
   "cell_type": "code",
   "execution_count": 91,
   "metadata": {},
   "outputs": [],
   "source": [
    "# Creating option menu in the side bar\n",
    "with st.sidebar:\n",
    "    selected = option_menu(\"Menu\", [\"Home\",\"Top Charts\",\"Explore Data\",\"About\"], \n",
    "                icons=[\"house\",\"graph-up-arrow\",\"bar-chart-line\", \"exclamation-circle\"],\n",
    "                menu_icon= \"menu-button-wide\",\n",
    "                default_index=0,\n",
    "                styles={\"nav-link\": {\"font-size\": \"20px\", \"text-align\": \"left\", \"margin\": \"-2px\", \"--hover-color\": \"#6F36AD\"},\n",
    "                        \"nav-link-selected\": {\"background-color\": \"#6F36AD\"}})\n",
    "# MENU 1 - HOME\n",
    "if selected == \"Home\":\n",
    "    st.image(\"image.png\")\n",
    "    st.markdown(\"# :violet[Data Visualization and Exploration]\")\n",
    "    st.markdown(\"## :violet[A User-Friendly Tool Using Streamlit and Plotly]\")\n",
    "    col1,col2 = st.columns([3,2],gap=\"medium\")\n",
    "    with col1:\n",
    "        st.write(\" \")\n",
    "        st.write(\" \")\n",
    "        st.markdown(\"### :violet[Domain :] Fintech\")\n",
    "        st.markdown(\"### :violet[Technologies used :] Github Cloning, Python, Pandas, MySQL, mysql-connector-python, Streamlit, and Plotly.\")\n",
    "        st.markdown(\"### :violet[Overview :] In this streamlit web app you can visualize the phonepe pulse data and gain lot of insights on transactions, number of users, top 10 state, district, pincode and which brand has most number of users and so on. Bar charts, Pie charts and Geo map visualization are used to get some insights.\")\n",
    "    with col2:\n",
    "        st.image(\"image2.jpg\")"
   ]
  },
  {
   "cell_type": "code",
   "execution_count": 92,
   "metadata": {},
   "outputs": [],
   "source": [
    "# MENU 2 - TOP CHARTS\n",
    "if selected == \"Top Charts\":\n",
    "    st.markdown(\"## :violet[Top Charts]\")\n",
    "    Type = st.sidebar.selectbox(\"**Type**\", (\"Transactions\", \"Users\"))\n",
    "    colum1,colum2= st.columns([1,1.5],gap=\"large\")\n",
    "    with colum1:\n",
    "        Year = st.slider(\"**Year**\", min_value=2018, max_value=2022)\n",
    "        Quarter = st.slider(\"Quarter\", min_value=1, max_value=4)\n",
    "    \n",
    "    with colum2:\n",
    "        st.info(\n",
    "                \"\"\"\n",
    "                #### From this menu we can get insights like :\n",
    "                - Overall ranking on a particular Year and Quarter.\n",
    "                - Top 10 States, Districts, Pincodes based on Total number of transaction and Total amount spent on phonepe.\n",
    "                - Top 10 States, Districts, Pincodes based on Total phonepe users and their app opening frequency.\n",
    "                - Top 10 mobile brands and its percentage based on the how many people use phonepe.\n",
    "                \"\"\",icon=\"🔍\"\n",
    "                )\n",
    "        \n",
    "        \n",
    "    # Top Charts - TRANSACTIONS    \n",
    "    if Type == \"Transactions\":\n",
    "        col1,col2,col3 = st.columns([1,1,1],gap=\"small\")\n",
    "        \n",
    "        with col1:\n",
    "            st.markdown(\"### :violet[State]\")\n",
    "            mycursor.execute(f\"select states as states, sum(Transaction_count) as Transactions_Count, sum(Transaction_amount) as Total_amount from aggregated_transaction where years = {Year} and Quarter = {Quarter} group by states order by Total_amount desc limit 10\")\n",
    "            df = pd.DataFrame(mycursor.fetchall(), columns=['states','Transactions_Count','Total_amount'])\n",
    "            fig = px.pie(df, values='Total_amount',\n",
    "                            names='states',\n",
    "                            title='Top 10',\n",
    "                            color_discrete_sequence=px.colors.sequential.Agsunset,\n",
    "                            hover_data=['Transactions_Count'],\n",
    "                            labels={'Transactions_Count':'Transactions_Count'})\n",
    "\n",
    "            fig.update_traces(textposition='inside', textinfo='percent+label')\n",
    "            st.plotly_chart(fig,use_container_width=True)\n",
    "            \n",
    "        with col2:\n",
    "            st.markdown(\"### :violet[District]\")\n",
    "            mycursor.execute(f\"select Districts as Districts , sum(Transaction_count) as Transactions_Count, sum(Transaction_amount) as Total_amount from map_transaction where years = {Year} and Quarter = {Quarter} group by Districts order by Total_amount desc limit 10\")\n",
    "            df = pd.DataFrame(mycursor.fetchall(), columns=['Districts', 'Transactions_Count','Total_amount'])\n",
    "\n",
    "            fig = px.pie(df, values='Total_amount',\n",
    "                            names='Districts',\n",
    "                            title='Top 10',\n",
    "                            color_discrete_sequence=px.colors.sequential.Agsunset,\n",
    "                            hover_data=['Transactions_Count'],\n",
    "                            labels={'Transactions_Count':'Transactions_Count'})\n",
    "\n",
    "            fig.update_traces(textposition='inside', textinfo='percent+label')\n",
    "            st.plotly_chart(fig,use_container_width=True)\n",
    "            \n",
    "        with col3:\n",
    "            st.markdown(\"### :violet[Pincode]\")\n",
    "            mycursor.execute(f\"select Pincodes, sum(Transaction_count) as Total_Transactions_Count, sum(Transaction_amount) as Total from top_transaction where years = {Year} and Quarter = {Quarter} group by Pincodes order by Total desc limit 10\")\n",
    "            df = pd.DataFrame(mycursor.fetchall(), columns=['Pincodes', 'Transactions_Count','Total_Amount'])\n",
    "            fig = px.pie(df, values='Total_Amount',\n",
    "                                names='Pincode',\n",
    "                                title='Top 10',\n",
    "                                color_discrete_sequence=px.colors.sequential.Agsunset,\n",
    "                                hover_data=['Transactions_Count'],\n",
    "                                labels={'Transactions_Count':'Transactions_Count'})\n",
    "\n",
    "            fig.update_traces(textposition='inside', textinfo='percent+label')\n",
    "            st.plotly_chart(fig,use_container_width=True)\n",
    "            \n",
    "    # Top Charts - USERS          \n",
    "    if Type == \"Users\":\n",
    "        col1,col2,col3,col4 = st.columns([2,2,2,2],gap=\"small\")\n",
    "        \n",
    "        with col1:\n",
    "            st.markdown(\"### :violet[Brands]\")\n",
    "            if Year == 2022 and Quarter in [2,3,4]:\n",
    "                st.markdown(\"#### Sorry No Data to Display for 2022 Qtr 2,3,4\")\n",
    "            else:\n",
    "                mycursor.execute(f\"select Brands as Brands, sum(Transaction_count) as Total_Count, avg(Percentage)*100 as Avg_Percentage from aggregated_user where years = {Year} and Quarter = {Quarter} group by Brands order by Total_Count desc limit 10\")\n",
    "                df = pd.DataFrame(mycursor.fetchall(), columns=['Brands', 'Total_Count','Avg_Percentage'])\n",
    "                fig = px.bar(df,\n",
    "                                title='Top 10',\n",
    "                                x=\"Total_Count\",\n",
    "                                y=\"Brands\",\n",
    "                                orientation='h',\n",
    "                                color='Avg_Percentage',\n",
    "                                color_continuous_scale=px.colors.sequential.Agsunset)\n",
    "                st.plotly_chart(fig,use_container_width=True)\n",
    "                \n",
    "        with col2:\n",
    "            st.markdown(\"### :violet[District]\")\n",
    "            mycursor.execute(f\"select Districts as Districts, sum(RegisteredUsers) as Total_Users, sum(AppOpens) as Total_Appopens from map_user where years = {Year} and Quarter = {Quarter} group by Districts order by Total_Users desc limit 10\")\n",
    "            df = pd.DataFrame(mycursor.fetchall(), columns=['Districts', 'Total_Users','Total_Appopens'])\n",
    "            df.Total_Users = df.Total_Users.astype(float)\n",
    "            fig = px.bar(df,\n",
    "                            title='Top 10',\n",
    "                            x=\"Total_Users\",\n",
    "                            y=\"Districts\",\n",
    "                            orientation='h',\n",
    "                            color='Total_Users',\n",
    "                            color_continuous_scale=px.colors.sequential.Agsunset)\n",
    "            st.plotly_chart(fig,use_container_width=True)\n",
    "            \n",
    "        with col3:\n",
    "            st.markdown(\"### :violet[Pincode]\")\n",
    "            mycursor.execute(f\"select Pincodes as Pincodes, sum(RegisteredUser) as Total_Users from top_user where years = {Year} and Quarter = {Quarter} group by Pincodes order by Total_Users desc limit 10\")\n",
    "            df = pd.DataFrame(mycursor.fetchall(), columns=['Pincodes', 'Total_Users'])\n",
    "            fig = px.pie(df,\n",
    "                            values='Total_Users',\n",
    "                            names='Pincodes',\n",
    "                            title='Top 10',\n",
    "                            color_discrete_sequence=px.colors.sequential.Agsunset,\n",
    "                            hover_data=['Total_Users'])\n",
    "            fig.update_traces(textposition='inside', textinfo='percent+label')\n",
    "            st.plotly_chart(fig,use_container_width=True)\n",
    "            \n",
    "        with col4:\n",
    "            st.markdown(\"### :violet[State]\")\n",
    "            mycursor.execute(f\"select states, sum(RegisteredUsers) as Total_Users, sum(AppOpens) as Total_Appopens from map_user where years = {Year} and Quarter = {Quarter} group by states order by Total_Users desc limit 10\")\n",
    "            df = pd.DataFrame(mycursor.fetchall(), columns=['State', 'Total_Users','Total_Appopens'])\n",
    "            fig = px.pie(df, values='Total_Users',\n",
    "                                names='State',\n",
    "                                title='Top 10',\n",
    "                                color_discrete_sequence=px.colors.sequential.Agsunset,\n",
    "                                hover_data=['Total_Appopens'],\n",
    "                                labels={'Total_Appopens':'Total_Appopens'})\n",
    "\n",
    "            fig.update_traces(textposition='inside', textinfo='percent+label')\n",
    "            st.plotly_chart(fig,use_container_width=True)"
   ]
  },
  {
   "cell_type": "code",
   "execution_count": 112,
   "metadata": {},
   "outputs": [],
   "source": [
    "# MENU 3 - EXPLORE DATA\n",
    "if selected == \"Explore Data\":\n",
    "    Year = st.sidebar.slider(\"**Year**\", min_value=2018, max_value=2022)\n",
    "    Quarter = st.sidebar.slider(\"Quarter\", min_value=1, max_value=4)\n",
    "    Type = st.sidebar.selectbox(\"**Type**\", (\"Transactions\", \"Users\"))\n",
    "    col1,col2 = st.columns(2)\n",
    "    \n",
    "    # EXPLORE DATA - TRANSACTIONS\n",
    "    if Type == \"Transactions\":\n",
    "        \n",
    "        # Overall State Data - TRANSACTIONS AMOUNT - INDIA MAP \n",
    "        with col1:\n",
    "            st.markdown(\"## :violet[Overall State Data - Transactions Amount]\")\n",
    "            mycursor.execute(f\"select states, sum(Transaction_count) as Total_Transactions, sum(Transaction_amount) as Total_amount from map_transaction where years = {Year} and Quarter = {Quarter} group by states order by states\")\n",
    "            df1 = pd.DataFrame(mycursor.fetchall(),columns= ['states', 'Total_Transactions', 'Total_amount'])\n",
    "            df2 = pd.read_csv('states.csv')\n",
    "            df1.states=df2\n",
    "\n",
    "            fig = px.choropleth(df1,geojson=\"https://gist.githubusercontent.com/jbrobst/56c13bbbf9d97d187fea01ca62ea5112/raw/e388c4cae20aa53cb5090210a42ebb9b765c0a36/india_states.geojson\",\n",
    "                                    featureidkey='properties.ST_NM',\n",
    "                                    locations='states',\n",
    "                                    color='Total_amount',\n",
    "                                    color_continuous_scale='sunset')\n",
    "            fig.update_geos(fitbounds=\"locations\", visible=False)\n",
    "            st.plotly_chart(fig,use_container_width=True)\n"
   ]
  },
  {
   "cell_type": "code",
   "execution_count": 111,
   "metadata": {},
   "outputs": [
    {
     "data": {
      "application/vnd.plotly.v1+json": {
       "config": {
        "plotlyServerURL": "https://plot.ly"
       },
       "data": [
        {
         "coloraxis": "coloraxis",
         "featureidkey": "properties.ST_NM",
         "geo": "geo",
         "geojson": "https://gist.githubusercontent.com/jbrobst/56c13bbbf9d97d187fea01ca62ea5112/raw/e388c4cae20aa53cb5090210a42ebb9b765c0a36/india_states.geojson",
         "hovertemplate": "states=%{location}<br>Total_amount=%{z}<extra></extra>",
         "locations": [
          "Andaman & Nicobar",
          "Andhra Pradesh",
          "Arunachal Pradesh",
          "Assam",
          "Bihar",
          "Chandigarh",
          "Chhattisgarh",
          "Dadra and Nagar Haveli and Daman and Diu",
          "Delhi",
          "Goa",
          "Gujarat",
          "Haryana",
          "Himachal Pradesh",
          "Jammu & Kashmir",
          "Jharkhand",
          "Karnataka",
          "Kerala",
          "Ladakh",
          "Lakshadweep",
          "Madhya Pradesh",
          "Maharashtra",
          "Manipur",
          "Meghalaya",
          "Mizoram",
          "Nagaland",
          "Odisha",
          "Puducherry",
          "Punjab",
          "Rajasthan",
          "Sikkim",
          "Tamil Nadu",
          "Telangana",
          "Tripura",
          "Uttar Pradesh",
          "Uttarakhand",
          "West Bengal"
         ],
         "name": "",
         "type": "choropleth",
         "z": [
          14631760.8125,
          11996276448,
          92387336.46717834,
          1157804448.75,
          6045758148,
          613435392,
          2149155557.25,
          175658382,
          11211503920,
          303856736,
          7577982079,
          6793511556,
          628737803.90625,
          1005371245.5537109,
          2374186378,
          19217895464,
          2402674748,
          12532858,
          1928611.125,
          8681603463,
          21711613372,
          128046175.76147461,
          66250261.09375,
          45227219,
          78005891.8125,
          4627632199,
          165825964,
          2780758228,
          8926293192,
          64650939.5,
          11261557618,
          13308204052,
          137978917.5,
          13939970956,
          1508545367,
          10625978479.5
         ]
        }
       ],
       "layout": {
        "coloraxis": {
         "colorbar": {
          "title": {
           "text": "Total_amount"
          }
         },
         "colorscale": [
          [
           0,
           "rgb(243, 231, 155)"
          ],
          [
           0.16666666666666666,
           "rgb(250, 196, 132)"
          ],
          [
           0.3333333333333333,
           "rgb(248, 160, 126)"
          ],
          [
           0.5,
           "rgb(235, 127, 134)"
          ],
          [
           0.6666666666666666,
           "rgb(206, 102, 147)"
          ],
          [
           0.8333333333333334,
           "rgb(160, 89, 160)"
          ],
          [
           1,
           "rgb(92, 83, 165)"
          ]
         ]
        },
        "geo": {
         "center": {},
         "domain": {
          "x": [
           0,
           1
          ],
          "y": [
           0,
           1
          ]
         },
         "fitbounds": "locations",
         "visible": false
        },
        "legend": {
         "tracegroupgap": 0
        },
        "margin": {
         "t": 60
        },
        "template": {
         "data": {
          "candlestick": [
           {
            "decreasing": {
             "line": {
              "color": "#000033"
             }
            },
            "increasing": {
             "line": {
              "color": "#000032"
             }
            },
            "type": "candlestick"
           }
          ],
          "contour": [
           {
            "colorscale": [
             [
              0,
              "#000011"
             ],
             [
              0.1111111111111111,
              "#000012"
             ],
             [
              0.2222222222222222,
              "#000013"
             ],
             [
              0.3333333333333333,
              "#000014"
             ],
             [
              0.4444444444444444,
              "#000015"
             ],
             [
              0.5555555555555556,
              "#000016"
             ],
             [
              0.6666666666666666,
              "#000017"
             ],
             [
              0.7777777777777778,
              "#000018"
             ],
             [
              0.8888888888888888,
              "#000019"
             ],
             [
              1,
              "#000020"
             ]
            ],
            "type": "contour"
           }
          ],
          "contourcarpet": [
           {
            "colorscale": [
             [
              0,
              "#000011"
             ],
             [
              0.1111111111111111,
              "#000012"
             ],
             [
              0.2222222222222222,
              "#000013"
             ],
             [
              0.3333333333333333,
              "#000014"
             ],
             [
              0.4444444444444444,
              "#000015"
             ],
             [
              0.5555555555555556,
              "#000016"
             ],
             [
              0.6666666666666666,
              "#000017"
             ],
             [
              0.7777777777777778,
              "#000018"
             ],
             [
              0.8888888888888888,
              "#000019"
             ],
             [
              1,
              "#000020"
             ]
            ],
            "type": "contourcarpet"
           }
          ],
          "heatmap": [
           {
            "colorscale": [
             [
              0,
              "#000011"
             ],
             [
              0.1111111111111111,
              "#000012"
             ],
             [
              0.2222222222222222,
              "#000013"
             ],
             [
              0.3333333333333333,
              "#000014"
             ],
             [
              0.4444444444444444,
              "#000015"
             ],
             [
              0.5555555555555556,
              "#000016"
             ],
             [
              0.6666666666666666,
              "#000017"
             ],
             [
              0.7777777777777778,
              "#000018"
             ],
             [
              0.8888888888888888,
              "#000019"
             ],
             [
              1,
              "#000020"
             ]
            ],
            "type": "heatmap"
           }
          ],
          "histogram2d": [
           {
            "colorscale": [
             [
              0,
              "#000011"
             ],
             [
              0.1111111111111111,
              "#000012"
             ],
             [
              0.2222222222222222,
              "#000013"
             ],
             [
              0.3333333333333333,
              "#000014"
             ],
             [
              0.4444444444444444,
              "#000015"
             ],
             [
              0.5555555555555556,
              "#000016"
             ],
             [
              0.6666666666666666,
              "#000017"
             ],
             [
              0.7777777777777778,
              "#000018"
             ],
             [
              0.8888888888888888,
              "#000019"
             ],
             [
              1,
              "#000020"
             ]
            ],
            "type": "histogram2d"
           }
          ],
          "icicle": [
           {
            "textfont": {
             "color": "white"
            },
            "type": "icicle"
           }
          ],
          "sankey": [
           {
            "textfont": {
             "color": "#000036"
            },
            "type": "sankey"
           }
          ],
          "scatter": [
           {
            "marker": {
             "line": {
              "width": 0
             }
            },
            "type": "scatter"
           }
          ],
          "table": [
           {
            "cells": {
             "fill": {
              "color": "#000038"
             },
             "font": {
              "color": "#000037"
             },
             "line": {
              "color": "#000039"
             }
            },
            "header": {
             "fill": {
              "color": "#000040"
             },
             "font": {
              "color": "#000036"
             },
             "line": {
              "color": "#000039"
             }
            },
            "type": "table"
           }
          ],
          "waterfall": [
           {
            "connector": {
             "line": {
              "color": "#000036",
              "width": 2
             }
            },
            "decreasing": {
             "marker": {
              "color": "#000033"
             }
            },
            "increasing": {
             "marker": {
              "color": "#000032"
             }
            },
            "totals": {
             "marker": {
              "color": "#000034"
             }
            },
            "type": "waterfall"
           }
          ]
         },
         "layout": {
          "coloraxis": {
           "colorscale": [
            [
             0,
             "#000011"
            ],
            [
             0.1111111111111111,
             "#000012"
            ],
            [
             0.2222222222222222,
             "#000013"
            ],
            [
             0.3333333333333333,
             "#000014"
            ],
            [
             0.4444444444444444,
             "#000015"
            ],
            [
             0.5555555555555556,
             "#000016"
            ],
            [
             0.6666666666666666,
             "#000017"
            ],
            [
             0.7777777777777778,
             "#000018"
            ],
            [
             0.8888888888888888,
             "#000019"
            ],
            [
             1,
             "#000020"
            ]
           ]
          },
          "colorscale": {
           "diverging": [
            [
             0,
             "#000021"
            ],
            [
             0.1,
             "#000022"
            ],
            [
             0.2,
             "#000023"
            ],
            [
             0.3,
             "#000024"
            ],
            [
             0.4,
             "#000025"
            ],
            [
             0.5,
             "#000026"
            ],
            [
             0.6,
             "#000027"
            ],
            [
             0.7,
             "#000028"
            ],
            [
             0.8,
             "#000029"
            ],
            [
             0.9,
             "#000030"
            ],
            [
             1,
             "#000031"
            ]
           ],
           "sequential": [
            [
             0,
             "#000011"
            ],
            [
             0.1111111111111111,
             "#000012"
            ],
            [
             0.2222222222222222,
             "#000013"
            ],
            [
             0.3333333333333333,
             "#000014"
            ],
            [
             0.4444444444444444,
             "#000015"
            ],
            [
             0.5555555555555556,
             "#000016"
            ],
            [
             0.6666666666666666,
             "#000017"
            ],
            [
             0.7777777777777778,
             "#000018"
            ],
            [
             0.8888888888888888,
             "#000019"
            ],
            [
             1,
             "#000020"
            ]
           ],
           "sequentialminus": [
            [
             0,
             "#000011"
            ],
            [
             0.1111111111111111,
             "#000012"
            ],
            [
             0.2222222222222222,
             "#000013"
            ],
            [
             0.3333333333333333,
             "#000014"
            ],
            [
             0.4444444444444444,
             "#000015"
            ],
            [
             0.5555555555555556,
             "#000016"
            ],
            [
             0.6666666666666666,
             "#000017"
            ],
            [
             0.7777777777777778,
             "#000018"
            ],
            [
             0.8888888888888888,
             "#000019"
            ],
            [
             1,
             "#000020"
            ]
           ]
          },
          "colorway": [
           "#000001",
           "#000002",
           "#000003",
           "#000004",
           "#000005",
           "#000006",
           "#000007",
           "#000008",
           "#000009",
           "#000010"
          ]
         }
        }
       }
      }
     },
     "metadata": {},
     "output_type": "display_data"
    }
   ],
   "source": [
    "st.markdown(\"## :violet[Overall State Data - Transactions Amount]\")\n",
    "mycursor.execute(f\"select states, sum(Transaction_count) as Total_Transactions, sum(Transaction_amount) as Total_amount from map_transaction where years = {Year} and Quarter = {Quarter} group by states order by states\")\n",
    "df1 = pd.DataFrame(mycursor.fetchall(),columns= ['states', 'Total_Transactions', 'Total_amount'])\n",
    "df2 = pd.read_csv('states.csv')\n",
    "df1.states=df2\n",
    "\n",
    "fig = px.choropleth(df1,geojson=\"https://gist.githubusercontent.com/jbrobst/56c13bbbf9d97d187fea01ca62ea5112/raw/e388c4cae20aa53cb5090210a42ebb9b765c0a36/india_states.geojson\",\n",
    "                        featureidkey='properties.ST_NM',\n",
    "                        locations='states',\n",
    "                        color='Total_amount',\n",
    "                        color_continuous_scale='sunset')\n",
    "fig.update_geos(fitbounds=\"locations\", visible=False)\n",
    "#st.plotly_chart(fig,use_container_width=True)"
   ]
  },
  {
   "cell_type": "code",
   "execution_count": 113,
   "metadata": {},
   "outputs": [],
   "source": [
    "# Overall State Data - TRANSACTIONS COUNT - INDIA MAP\n",
    "with col2:\n",
    "    \n",
    "    st.markdown(\"## :violet[Overall State Data - Transactions Count]\")\n",
    "    mycursor.execute(f\"select states, sum(Transaction_count) as Total_Transactions, sum(Transaction_amount) as Total_amount from map_transaction where years = {Year} and Quarter = {Quarter} group by states order by states\")\n",
    "    df1 = pd.DataFrame(mycursor.fetchall(),columns= ['states', 'Total_Transactions', 'Total_amount'])\n",
    "    df2 = pd.read_csv('states.csv')\n",
    "    df1.Total_Transactions = df1.Total_Transactions.astype(int)\n",
    "    df1.states = df2\n",
    "\n",
    "    fig = px.choropleth(df1,geojson=\"https://gist.githubusercontent.com/jbrobst/56c13bbbf9d97d187fea01ca62ea5112/raw/e388c4cae20aa53cb5090210a42ebb9b765c0a36/india_states.geojson\",\n",
    "                featureidkey='properties.ST_NM',\n",
    "                locations='states',\n",
    "                color='Total_Transactions',\n",
    "                color_continuous_scale='sunset')\n",
    "\n",
    "    fig.update_geos(fitbounds=\"locations\", visible=False)\n",
    "    st.plotly_chart(fig,use_container_width=True)"
   ]
  },
  {
   "cell_type": "code",
   "execution_count": 114,
   "metadata": {},
   "outputs": [
    {
     "data": {
      "application/vnd.plotly.v1+json": {
       "config": {
        "plotlyServerURL": "https://plot.ly"
       },
       "data": [
        {
         "coloraxis": "coloraxis",
         "featureidkey": "properties.ST_NM",
         "geo": "geo",
         "geojson": "https://gist.githubusercontent.com/jbrobst/56c13bbbf9d97d187fea01ca62ea5112/raw/e388c4cae20aa53cb5090210a42ebb9b765c0a36/india_states.geojson",
         "hovertemplate": "states=%{location}<br>Total_Transactions=%{z}<extra></extra>",
         "locations": [
          "Andaman & Nicobar",
          "Andhra Pradesh",
          "Arunachal Pradesh",
          "Assam",
          "Bihar",
          "Chandigarh",
          "Chhattisgarh",
          "Dadra and Nagar Haveli and Daman and Diu",
          "Delhi",
          "Goa",
          "Gujarat",
          "Haryana",
          "Himachal Pradesh",
          "Jammu & Kashmir",
          "Jharkhand",
          "Karnataka",
          "Kerala",
          "Ladakh",
          "Lakshadweep",
          "Madhya Pradesh",
          "Maharashtra",
          "Manipur",
          "Meghalaya",
          "Mizoram",
          "Nagaland",
          "Odisha",
          "Puducherry",
          "Punjab",
          "Rajasthan",
          "Sikkim",
          "Tamil Nadu",
          "Telangana",
          "Tripura",
          "Uttar Pradesh",
          "Uttarakhand",
          "West Bengal"
         ],
         "name": "",
         "type": "choropleth",
         "z": [
          6658,
          9039585,
          45497,
          1056881,
          5824302,
          381895,
          1891514,
          148549,
          7122754,
          160897,
          5948775,
          4480770,
          481918,
          941568,
          2178921,
          12016899,
          1771380,
          6089,
          778,
          8025395,
          16387034,
          84069,
          49571,
          18561,
          42845,
          5809821,
          104212,
          1870433,
          7591690,
          44078,
          6726622,
          8522766,
          148157,
          12537805,
          1246685,
          11710225
         ]
        }
       ],
       "layout": {
        "coloraxis": {
         "colorbar": {
          "title": {
           "text": "Total_Transactions"
          }
         },
         "colorscale": [
          [
           0,
           "rgb(243, 231, 155)"
          ],
          [
           0.16666666666666666,
           "rgb(250, 196, 132)"
          ],
          [
           0.3333333333333333,
           "rgb(248, 160, 126)"
          ],
          [
           0.5,
           "rgb(235, 127, 134)"
          ],
          [
           0.6666666666666666,
           "rgb(206, 102, 147)"
          ],
          [
           0.8333333333333334,
           "rgb(160, 89, 160)"
          ],
          [
           1,
           "rgb(92, 83, 165)"
          ]
         ]
        },
        "geo": {
         "center": {},
         "domain": {
          "x": [
           0,
           1
          ],
          "y": [
           0,
           1
          ]
         },
         "fitbounds": "locations",
         "visible": false
        },
        "legend": {
         "tracegroupgap": 0
        },
        "margin": {
         "t": 60
        },
        "template": {
         "data": {
          "candlestick": [
           {
            "decreasing": {
             "line": {
              "color": "#000033"
             }
            },
            "increasing": {
             "line": {
              "color": "#000032"
             }
            },
            "type": "candlestick"
           }
          ],
          "contour": [
           {
            "colorscale": [
             [
              0,
              "#000011"
             ],
             [
              0.1111111111111111,
              "#000012"
             ],
             [
              0.2222222222222222,
              "#000013"
             ],
             [
              0.3333333333333333,
              "#000014"
             ],
             [
              0.4444444444444444,
              "#000015"
             ],
             [
              0.5555555555555556,
              "#000016"
             ],
             [
              0.6666666666666666,
              "#000017"
             ],
             [
              0.7777777777777778,
              "#000018"
             ],
             [
              0.8888888888888888,
              "#000019"
             ],
             [
              1,
              "#000020"
             ]
            ],
            "type": "contour"
           }
          ],
          "contourcarpet": [
           {
            "colorscale": [
             [
              0,
              "#000011"
             ],
             [
              0.1111111111111111,
              "#000012"
             ],
             [
              0.2222222222222222,
              "#000013"
             ],
             [
              0.3333333333333333,
              "#000014"
             ],
             [
              0.4444444444444444,
              "#000015"
             ],
             [
              0.5555555555555556,
              "#000016"
             ],
             [
              0.6666666666666666,
              "#000017"
             ],
             [
              0.7777777777777778,
              "#000018"
             ],
             [
              0.8888888888888888,
              "#000019"
             ],
             [
              1,
              "#000020"
             ]
            ],
            "type": "contourcarpet"
           }
          ],
          "heatmap": [
           {
            "colorscale": [
             [
              0,
              "#000011"
             ],
             [
              0.1111111111111111,
              "#000012"
             ],
             [
              0.2222222222222222,
              "#000013"
             ],
             [
              0.3333333333333333,
              "#000014"
             ],
             [
              0.4444444444444444,
              "#000015"
             ],
             [
              0.5555555555555556,
              "#000016"
             ],
             [
              0.6666666666666666,
              "#000017"
             ],
             [
              0.7777777777777778,
              "#000018"
             ],
             [
              0.8888888888888888,
              "#000019"
             ],
             [
              1,
              "#000020"
             ]
            ],
            "type": "heatmap"
           }
          ],
          "histogram2d": [
           {
            "colorscale": [
             [
              0,
              "#000011"
             ],
             [
              0.1111111111111111,
              "#000012"
             ],
             [
              0.2222222222222222,
              "#000013"
             ],
             [
              0.3333333333333333,
              "#000014"
             ],
             [
              0.4444444444444444,
              "#000015"
             ],
             [
              0.5555555555555556,
              "#000016"
             ],
             [
              0.6666666666666666,
              "#000017"
             ],
             [
              0.7777777777777778,
              "#000018"
             ],
             [
              0.8888888888888888,
              "#000019"
             ],
             [
              1,
              "#000020"
             ]
            ],
            "type": "histogram2d"
           }
          ],
          "icicle": [
           {
            "textfont": {
             "color": "white"
            },
            "type": "icicle"
           }
          ],
          "sankey": [
           {
            "textfont": {
             "color": "#000036"
            },
            "type": "sankey"
           }
          ],
          "scatter": [
           {
            "marker": {
             "line": {
              "width": 0
             }
            },
            "type": "scatter"
           }
          ],
          "table": [
           {
            "cells": {
             "fill": {
              "color": "#000038"
             },
             "font": {
              "color": "#000037"
             },
             "line": {
              "color": "#000039"
             }
            },
            "header": {
             "fill": {
              "color": "#000040"
             },
             "font": {
              "color": "#000036"
             },
             "line": {
              "color": "#000039"
             }
            },
            "type": "table"
           }
          ],
          "waterfall": [
           {
            "connector": {
             "line": {
              "color": "#000036",
              "width": 2
             }
            },
            "decreasing": {
             "marker": {
              "color": "#000033"
             }
            },
            "increasing": {
             "marker": {
              "color": "#000032"
             }
            },
            "totals": {
             "marker": {
              "color": "#000034"
             }
            },
            "type": "waterfall"
           }
          ]
         },
         "layout": {
          "coloraxis": {
           "colorscale": [
            [
             0,
             "#000011"
            ],
            [
             0.1111111111111111,
             "#000012"
            ],
            [
             0.2222222222222222,
             "#000013"
            ],
            [
             0.3333333333333333,
             "#000014"
            ],
            [
             0.4444444444444444,
             "#000015"
            ],
            [
             0.5555555555555556,
             "#000016"
            ],
            [
             0.6666666666666666,
             "#000017"
            ],
            [
             0.7777777777777778,
             "#000018"
            ],
            [
             0.8888888888888888,
             "#000019"
            ],
            [
             1,
             "#000020"
            ]
           ]
          },
          "colorscale": {
           "diverging": [
            [
             0,
             "#000021"
            ],
            [
             0.1,
             "#000022"
            ],
            [
             0.2,
             "#000023"
            ],
            [
             0.3,
             "#000024"
            ],
            [
             0.4,
             "#000025"
            ],
            [
             0.5,
             "#000026"
            ],
            [
             0.6,
             "#000027"
            ],
            [
             0.7,
             "#000028"
            ],
            [
             0.8,
             "#000029"
            ],
            [
             0.9,
             "#000030"
            ],
            [
             1,
             "#000031"
            ]
           ],
           "sequential": [
            [
             0,
             "#000011"
            ],
            [
             0.1111111111111111,
             "#000012"
            ],
            [
             0.2222222222222222,
             "#000013"
            ],
            [
             0.3333333333333333,
             "#000014"
            ],
            [
             0.4444444444444444,
             "#000015"
            ],
            [
             0.5555555555555556,
             "#000016"
            ],
            [
             0.6666666666666666,
             "#000017"
            ],
            [
             0.7777777777777778,
             "#000018"
            ],
            [
             0.8888888888888888,
             "#000019"
            ],
            [
             1,
             "#000020"
            ]
           ],
           "sequentialminus": [
            [
             0,
             "#000011"
            ],
            [
             0.1111111111111111,
             "#000012"
            ],
            [
             0.2222222222222222,
             "#000013"
            ],
            [
             0.3333333333333333,
             "#000014"
            ],
            [
             0.4444444444444444,
             "#000015"
            ],
            [
             0.5555555555555556,
             "#000016"
            ],
            [
             0.6666666666666666,
             "#000017"
            ],
            [
             0.7777777777777778,
             "#000018"
            ],
            [
             0.8888888888888888,
             "#000019"
            ],
            [
             1,
             "#000020"
            ]
           ]
          },
          "colorway": [
           "#000001",
           "#000002",
           "#000003",
           "#000004",
           "#000005",
           "#000006",
           "#000007",
           "#000008",
           "#000009",
           "#000010"
          ]
         }
        }
       }
      }
     },
     "metadata": {},
     "output_type": "display_data"
    }
   ],
   "source": [
    "st.markdown(\"## :violet[Overall State Data - Transactions Count]\")\n",
    "mycursor.execute(f\"select states, sum(Transaction_count) as Total_Transactions, sum(Transaction_amount) as Total_amount from map_transaction where years = {Year} and Quarter = {Quarter} group by states order by states\")\n",
    "df1 = pd.DataFrame(mycursor.fetchall(),columns= ['states', 'Total_Transactions', 'Total_amount'])\n",
    "df2 = pd.read_csv('states.csv')\n",
    "df1.Total_Transactions = df1.Total_Transactions.astype(int)\n",
    "df1.states = df2\n",
    "\n",
    "fig = px.choropleth(df1,geojson=\"https://gist.githubusercontent.com/jbrobst/56c13bbbf9d97d187fea01ca62ea5112/raw/e388c4cae20aa53cb5090210a42ebb9b765c0a36/india_states.geojson\",\n",
    "            featureidkey='properties.ST_NM',\n",
    "            locations='states',\n",
    "            color='Total_Transactions',\n",
    "            color_continuous_scale='sunset')\n",
    "\n",
    "fig.update_geos(fitbounds=\"locations\", visible=False)"
   ]
  },
  {
   "cell_type": "code",
   "execution_count": 115,
   "metadata": {},
   "outputs": [
    {
     "data": {
      "text/plain": [
       "DeltaGenerator()"
      ]
     },
     "execution_count": 115,
     "metadata": {},
     "output_type": "execute_result"
    }
   ],
   "source": [
    "# BAR CHART - TOP PAYMENT TYPE\n",
    "st.markdown(\"## :violet[Top Payment Type]\")\n",
    "mycursor.execute(f\"select Transaction_type, sum(Transaction_count) as Total_Transactions, sum(Transaction_amount) as Total_amount from aggregated_transaction where years= {Year} and Quarter = {Quarter} group by Transaction_type order by Transaction_type\")\n",
    "df = pd.DataFrame(mycursor.fetchall(), columns=['Transaction_type', 'Total_Transactions','Total_amount'])\n",
    "\n",
    "fig = px.bar(df,\n",
    "                title='Transaction Types vs Total_Transactions',\n",
    "                x=\"Transaction_type\",\n",
    "                y=\"Total_Transactions\",\n",
    "                orientation='v',\n",
    "                color='Total_amount',\n",
    "                color_continuous_scale=px.colors.sequential.Agsunset)\n",
    "st.plotly_chart(fig,use_container_width=False)"
   ]
  },
  {
   "cell_type": "code",
   "execution_count": 127,
   "metadata": {},
   "outputs": [
    {
     "name": "stderr",
     "output_type": "stream",
     "text": [
      "2023-12-27 14:17:11.850 `label` got an empty value. This is discouraged for accessibility reasons and may be disallowed in the future by raising an exception. Please provide a non-empty label and hide it with label_visibility if needed.\n"
     ]
    },
    {
     "data": {
      "text/plain": [
       "DeltaGenerator()"
      ]
     },
     "execution_count": 127,
     "metadata": {},
     "output_type": "execute_result"
    }
   ],
   "source": [
    "# BAR CHART TRANSACTIONS - DISTRICT WISE DATA            \n",
    "st.markdown(\"# \")\n",
    "st.markdown(\"# \")\n",
    "st.markdown(\"# \")\n",
    "st.markdown(\"## :violet[Select any State to explore more]\")\n",
    "selected_state = st.selectbox(\"\",\n",
    "                        ('andaman-&-nicobar-islands','andhra-pradesh','arunachal-pradesh','assam','bihar',\n",
    "                        'chandigarh','chhattisgarh','dadra-&-nagar-haveli-&-daman-&-diu','delhi','goa','gujarat','haryana',\n",
    "                        'himachal-pradesh','jammu-&-kashmir','jharkhand','karnataka','kerala','ladakh','lakshadweep',\n",
    "                        'madhya-pradesh','maharashtra','manipur','meghalaya','mizoram',\n",
    "                        'nagaland','odisha','puducherry','punjab','rajasthan','sikkim',\n",
    "                        'tamil-nadu','telangana','tripura','uttar-pradesh','uttarakhand','west-bengal'),index=30)\n",
    "mycursor.execute(f\"select states, Districts,years,Quarter, sum(Transaction_count) as Total_Transactions, sum(Transaction_amount) as Total_amount from map_transaction where years = {Year} and Quarter = {Quarter} and states = '{selected_state}' group by states, Districts,years,Quarter order by states,Districts\")\n",
    "df1 = pd.DataFrame(mycursor.fetchall(), columns=['states','Districts','years','Quarter','Total_Transactions','Total_amount'])\n",
    "\n",
    "fig = px.bar(df1,\n",
    "                title=selected_state,\n",
    "                x=\"Districts\",\n",
    "                y=\"Total_Transactions\",\n",
    "                orientation='v',\n",
    "                color='Total_amount',\n",
    "                color_continuous_scale=px.colors.sequential.Agsunset)\n",
    "st.plotly_chart(fig,use_container_width=True)\n"
   ]
  },
  {
   "cell_type": "code",
   "execution_count": 123,
   "metadata": {},
   "outputs": [
    {
     "name": "stderr",
     "output_type": "stream",
     "text": [
      "2023-12-27 14:15:44.212 `label` got an empty value. This is discouraged for accessibility reasons and may be disallowed in the future by raising an exception. Please provide a non-empty label and hide it with label_visibility if needed.\n"
     ]
    }
   ],
   "source": [
    "selected_state = st.selectbox(\"\",\n",
    "                        ('andaman-&-nicobar-islands','andhra-pradesh','arunachal-pradesh','assam','bihar',\n",
    "                        'chandigarh','chhattisgarh','dadra-&-nagar-haveli-&-daman-&-diu','delhi','goa','gujarat','haryana',\n",
    "                        'himachal-pradesh','jammu-&-kashmir','jharkhand','karnataka','kerala','ladakh','lakshadweep',\n",
    "                        'madhya-pradesh','maharashtra','manipur','meghalaya','mizoram',\n",
    "                        'nagaland','odisha','puducherry','punjab','rajasthan','sikkim',\n",
    "                        'tamil-nadu','telangana','tripura','uttar-pradesh','uttarakhand','west-bengal'),index=30)\n",
    "mycursor.execute(f\"select states, Districts,years,Quarter, sum(Transaction_count) as Total_Transactions, sum(Transaction_amount) as Total_amount from map_transaction where years = {Year} and Quarter = {Quarter} and states = '{selected_state}' group by states, Districts,years,Quarter order by states,Districts\")\n",
    "df1 = pd.DataFrame(mycursor.fetchall(), columns=['states','Districts','years','Quarter','Total_Transactions','Total_amount'])\n",
    "\n",
    "fig = px.bar(df1,\n",
    "                title=selected_state,\n",
    "                x=\"Districts\",\n",
    "                y=\"Total_Transactions\",\n",
    "                orientation='v',\n",
    "                color='Total_amount',\n",
    "                color_continuous_scale=px.colors.sequential.Agsunset)\n",
    "st.plotly_chart(fig,use_container_width=True)\n"
   ]
  },
  {
   "cell_type": "code",
   "execution_count": 117,
   "metadata": {},
   "outputs": [],
   "source": [
    "# EXPLORE DATA - USERS      \n",
    "if Type == \"Users\":\n",
    "    \n",
    "    # Overall State Data - TOTAL APPOPENS - INDIA MAP\n",
    "    st.markdown(\"## :violet[Overall State Data - User App opening frequency]\")\n",
    "    mycursor.execute(f\"select states, sum(RegisteredUsers) as Total_Users, sum(AppOpens) as Total_Appopens from map_user where years = {Year} and Quarter = {Quarter} group by states order by states\")\n",
    "    df1 = pd.DataFrame(mycursor.fetchall(), columns=['states', 'Total_Users','Total_Appopens'])\n",
    "    df2 = pd.read_csv('states.csv')\n",
    "    df1.Total_Appopens = df1.Total_Appopens.astype(float)\n",
    "    df1.states = df2\n",
    "    \n",
    "    fig = px.choropleth(df1,geojson=\"https://gist.githubusercontent.com/jbrobst/56c13bbbf9d97d187fea01ca62ea5112/raw/e388c4cae20aa53cb5090210a42ebb9b765c0a36/india_states.geojson\",\n",
    "                featureidkey='properties.ST_NM',\n",
    "                locations='states',\n",
    "                color='Total_Appopens',\n",
    "                color_continuous_scale='sunset')\n",
    "\n",
    "    fig.update_geos(fitbounds=\"locations\", visible=False)\n",
    "    st.plotly_chart(fig,use_container_width=True)"
   ]
  },
  {
   "cell_type": "code",
   "execution_count": 119,
   "metadata": {},
   "outputs": [
    {
     "data": {
      "application/vnd.plotly.v1+json": {
       "config": {
        "plotlyServerURL": "https://plot.ly"
       },
       "data": [
        {
         "coloraxis": "coloraxis",
         "featureidkey": "properties.ST_NM",
         "geo": "geo",
         "geojson": "https://gist.githubusercontent.com/jbrobst/56c13bbbf9d97d187fea01ca62ea5112/raw/e388c4cae20aa53cb5090210a42ebb9b765c0a36/india_states.geojson",
         "hovertemplate": "states=%{location}<br>Total_Appopens=%{z}<extra></extra>",
         "locations": [
          "Andaman & Nicobar",
          "Andhra Pradesh",
          "Arunachal Pradesh",
          "Assam",
          "Bihar",
          "Chandigarh",
          "Chhattisgarh",
          "Dadra and Nagar Haveli and Daman and Diu",
          "Delhi",
          "Goa",
          "Gujarat",
          "Haryana",
          "Himachal Pradesh",
          "Jammu & Kashmir",
          "Jharkhand",
          "Karnataka",
          "Kerala",
          "Ladakh",
          "Lakshadweep",
          "Madhya Pradesh",
          "Maharashtra",
          "Manipur",
          "Meghalaya",
          "Mizoram",
          "Nagaland",
          "Odisha",
          "Puducherry",
          "Punjab",
          "Rajasthan",
          "Sikkim",
          "Tamil Nadu",
          "Telangana",
          "Tripura",
          "Uttar Pradesh",
          "Uttarakhand",
          "West Bengal"
         ],
         "name": "",
         "type": "choropleth",
         "z": [
          0,
          0,
          0,
          0,
          0,
          0,
          0,
          0,
          0,
          0,
          0,
          0,
          0,
          0,
          0,
          0,
          0,
          0,
          0,
          0,
          0,
          0,
          0,
          0,
          0,
          0,
          0,
          0,
          0,
          0,
          0,
          0,
          0,
          0,
          0,
          0
         ]
        }
       ],
       "layout": {
        "coloraxis": {
         "colorbar": {
          "title": {
           "text": "Total_Appopens"
          }
         },
         "colorscale": [
          [
           0,
           "rgb(243, 231, 155)"
          ],
          [
           0.16666666666666666,
           "rgb(250, 196, 132)"
          ],
          [
           0.3333333333333333,
           "rgb(248, 160, 126)"
          ],
          [
           0.5,
           "rgb(235, 127, 134)"
          ],
          [
           0.6666666666666666,
           "rgb(206, 102, 147)"
          ],
          [
           0.8333333333333334,
           "rgb(160, 89, 160)"
          ],
          [
           1,
           "rgb(92, 83, 165)"
          ]
         ]
        },
        "geo": {
         "center": {},
         "domain": {
          "x": [
           0,
           1
          ],
          "y": [
           0,
           1
          ]
         },
         "fitbounds": "locations",
         "visible": false
        },
        "legend": {
         "tracegroupgap": 0
        },
        "margin": {
         "t": 60
        },
        "template": {
         "data": {
          "candlestick": [
           {
            "decreasing": {
             "line": {
              "color": "#000033"
             }
            },
            "increasing": {
             "line": {
              "color": "#000032"
             }
            },
            "type": "candlestick"
           }
          ],
          "contour": [
           {
            "colorscale": [
             [
              0,
              "#000011"
             ],
             [
              0.1111111111111111,
              "#000012"
             ],
             [
              0.2222222222222222,
              "#000013"
             ],
             [
              0.3333333333333333,
              "#000014"
             ],
             [
              0.4444444444444444,
              "#000015"
             ],
             [
              0.5555555555555556,
              "#000016"
             ],
             [
              0.6666666666666666,
              "#000017"
             ],
             [
              0.7777777777777778,
              "#000018"
             ],
             [
              0.8888888888888888,
              "#000019"
             ],
             [
              1,
              "#000020"
             ]
            ],
            "type": "contour"
           }
          ],
          "contourcarpet": [
           {
            "colorscale": [
             [
              0,
              "#000011"
             ],
             [
              0.1111111111111111,
              "#000012"
             ],
             [
              0.2222222222222222,
              "#000013"
             ],
             [
              0.3333333333333333,
              "#000014"
             ],
             [
              0.4444444444444444,
              "#000015"
             ],
             [
              0.5555555555555556,
              "#000016"
             ],
             [
              0.6666666666666666,
              "#000017"
             ],
             [
              0.7777777777777778,
              "#000018"
             ],
             [
              0.8888888888888888,
              "#000019"
             ],
             [
              1,
              "#000020"
             ]
            ],
            "type": "contourcarpet"
           }
          ],
          "heatmap": [
           {
            "colorscale": [
             [
              0,
              "#000011"
             ],
             [
              0.1111111111111111,
              "#000012"
             ],
             [
              0.2222222222222222,
              "#000013"
             ],
             [
              0.3333333333333333,
              "#000014"
             ],
             [
              0.4444444444444444,
              "#000015"
             ],
             [
              0.5555555555555556,
              "#000016"
             ],
             [
              0.6666666666666666,
              "#000017"
             ],
             [
              0.7777777777777778,
              "#000018"
             ],
             [
              0.8888888888888888,
              "#000019"
             ],
             [
              1,
              "#000020"
             ]
            ],
            "type": "heatmap"
           }
          ],
          "histogram2d": [
           {
            "colorscale": [
             [
              0,
              "#000011"
             ],
             [
              0.1111111111111111,
              "#000012"
             ],
             [
              0.2222222222222222,
              "#000013"
             ],
             [
              0.3333333333333333,
              "#000014"
             ],
             [
              0.4444444444444444,
              "#000015"
             ],
             [
              0.5555555555555556,
              "#000016"
             ],
             [
              0.6666666666666666,
              "#000017"
             ],
             [
              0.7777777777777778,
              "#000018"
             ],
             [
              0.8888888888888888,
              "#000019"
             ],
             [
              1,
              "#000020"
             ]
            ],
            "type": "histogram2d"
           }
          ],
          "icicle": [
           {
            "textfont": {
             "color": "white"
            },
            "type": "icicle"
           }
          ],
          "sankey": [
           {
            "textfont": {
             "color": "#000036"
            },
            "type": "sankey"
           }
          ],
          "scatter": [
           {
            "marker": {
             "line": {
              "width": 0
             }
            },
            "type": "scatter"
           }
          ],
          "table": [
           {
            "cells": {
             "fill": {
              "color": "#000038"
             },
             "font": {
              "color": "#000037"
             },
             "line": {
              "color": "#000039"
             }
            },
            "header": {
             "fill": {
              "color": "#000040"
             },
             "font": {
              "color": "#000036"
             },
             "line": {
              "color": "#000039"
             }
            },
            "type": "table"
           }
          ],
          "waterfall": [
           {
            "connector": {
             "line": {
              "color": "#000036",
              "width": 2
             }
            },
            "decreasing": {
             "marker": {
              "color": "#000033"
             }
            },
            "increasing": {
             "marker": {
              "color": "#000032"
             }
            },
            "totals": {
             "marker": {
              "color": "#000034"
             }
            },
            "type": "waterfall"
           }
          ]
         },
         "layout": {
          "coloraxis": {
           "colorscale": [
            [
             0,
             "#000011"
            ],
            [
             0.1111111111111111,
             "#000012"
            ],
            [
             0.2222222222222222,
             "#000013"
            ],
            [
             0.3333333333333333,
             "#000014"
            ],
            [
             0.4444444444444444,
             "#000015"
            ],
            [
             0.5555555555555556,
             "#000016"
            ],
            [
             0.6666666666666666,
             "#000017"
            ],
            [
             0.7777777777777778,
             "#000018"
            ],
            [
             0.8888888888888888,
             "#000019"
            ],
            [
             1,
             "#000020"
            ]
           ]
          },
          "colorscale": {
           "diverging": [
            [
             0,
             "#000021"
            ],
            [
             0.1,
             "#000022"
            ],
            [
             0.2,
             "#000023"
            ],
            [
             0.3,
             "#000024"
            ],
            [
             0.4,
             "#000025"
            ],
            [
             0.5,
             "#000026"
            ],
            [
             0.6,
             "#000027"
            ],
            [
             0.7,
             "#000028"
            ],
            [
             0.8,
             "#000029"
            ],
            [
             0.9,
             "#000030"
            ],
            [
             1,
             "#000031"
            ]
           ],
           "sequential": [
            [
             0,
             "#000011"
            ],
            [
             0.1111111111111111,
             "#000012"
            ],
            [
             0.2222222222222222,
             "#000013"
            ],
            [
             0.3333333333333333,
             "#000014"
            ],
            [
             0.4444444444444444,
             "#000015"
            ],
            [
             0.5555555555555556,
             "#000016"
            ],
            [
             0.6666666666666666,
             "#000017"
            ],
            [
             0.7777777777777778,
             "#000018"
            ],
            [
             0.8888888888888888,
             "#000019"
            ],
            [
             1,
             "#000020"
            ]
           ],
           "sequentialminus": [
            [
             0,
             "#000011"
            ],
            [
             0.1111111111111111,
             "#000012"
            ],
            [
             0.2222222222222222,
             "#000013"
            ],
            [
             0.3333333333333333,
             "#000014"
            ],
            [
             0.4444444444444444,
             "#000015"
            ],
            [
             0.5555555555555556,
             "#000016"
            ],
            [
             0.6666666666666666,
             "#000017"
            ],
            [
             0.7777777777777778,
             "#000018"
            ],
            [
             0.8888888888888888,
             "#000019"
            ],
            [
             1,
             "#000020"
            ]
           ]
          },
          "colorway": [
           "#000001",
           "#000002",
           "#000003",
           "#000004",
           "#000005",
           "#000006",
           "#000007",
           "#000008",
           "#000009",
           "#000010"
          ]
         }
        }
       }
      }
     },
     "metadata": {},
     "output_type": "display_data"
    }
   ],
   "source": [
    "# Overall State Data - TOTAL APPOPENS - INDIA MAP\n",
    "st.markdown(\"## :violet[Overall State Data - User App opening frequency]\")\n",
    "mycursor.execute(f\"select states, sum(RegisteredUsers) as Total_Users, sum(AppOpens) as Total_Appopens from map_user where years = {Year} and Quarter = {Quarter} group by states order by states\")\n",
    "df1 = pd.DataFrame(mycursor.fetchall(), columns=['states', 'Total_Users','Total_Appopens'])\n",
    "df2 = pd.read_csv('states.csv')\n",
    "df1.Total_Appopens = df1.Total_Appopens.astype(float)\n",
    "df1.states = df2\n",
    "\n",
    "fig = px.choropleth(df1,geojson=\"https://gist.githubusercontent.com/jbrobst/56c13bbbf9d97d187fea01ca62ea5112/raw/e388c4cae20aa53cb5090210a42ebb9b765c0a36/india_states.geojson\",\n",
    "            featureidkey='properties.ST_NM',\n",
    "            locations='states',\n",
    "            color='Total_Appopens',\n",
    "            color_continuous_scale='sunset')\n",
    "\n",
    "fig.update_geos(fitbounds=\"locations\", visible=False)\n",
    "#st.plotly_chart(fig,use_container_width=True)"
   ]
  },
  {
   "cell_type": "code",
   "execution_count": 120,
   "metadata": {},
   "outputs": [
    {
     "name": "stderr",
     "output_type": "stream",
     "text": [
      "2023-12-27 14:02:01.060 `label` got an empty value. This is discouraged for accessibility reasons and may be disallowed in the future by raising an exception. Please provide a non-empty label and hide it with label_visibility if needed.\n"
     ]
    },
    {
     "data": {
      "text/plain": [
       "DeltaGenerator()"
      ]
     },
     "execution_count": 120,
     "metadata": {},
     "output_type": "execute_result"
    }
   ],
   "source": [
    "# BAR CHART TOTAL UERS - DISTRICT WISE DATA \n",
    "st.markdown(\"## :violet[Select any states to explore more]\")\n",
    "selected_state = st.selectbox(\"\",\n",
    "                        ('andaman-&-nicobar-islands','andhra-pradesh','arunachal-pradesh','assam','bihar',\n",
    "                        'chandigarh','chhattisgarh','dadra-&-nagar-haveli-&-daman-&-diu','delhi','goa','gujarat','haryana',\n",
    "                        'himachal-pradesh','jammu-&-kashmir','jharkhand','karnataka','kerala','ladakh','lakshadweep',\n",
    "                        'madhya-pradesh','maharashtra','manipur','meghalaya','mizoram',\n",
    "                        'nagaland','odisha','puducherry','punjab','rajasthan','sikkim',\n",
    "                        'tamil-nadu','telangana','tripura','uttar-pradesh','uttarakhand','west-bengal'),index=30)\n",
    "\n",
    "mycursor.execute(f\"select states,years,Quarter,Districts,sum(RegisteredUsers) as Total_Users, sum(AppOpens) as Total_Appopens from map_user where years = {Year} and Quarter = {Quarter} and states = '{selected_state}' group by states, Districts,years,Quarter order by states,Districts\")\n",
    "\n",
    "df = pd.DataFrame(mycursor.fetchall(), columns=['states','years', 'Quarter', 'Districts', 'Total_Users','Total_Appopens'])\n",
    "df.Total_Users = df.Total_Users.astype(int)\n",
    "\n",
    "fig = px.bar(df,\n",
    "                title=selected_state,\n",
    "                x=\"Districts\",\n",
    "                y=\"Total_Users\",\n",
    "                orientation='v',\n",
    "                color='Total_Users',\n",
    "                color_continuous_scale=px.colors.sequential.Agsunset)\n",
    "st.plotly_chart(fig,use_container_width=True)"
   ]
  },
  {
   "cell_type": "code",
   "execution_count": 129,
   "metadata": {},
   "outputs": [],
   "source": [
    "# MENU 4 - ABOUT\n",
    "if selected == \"About\":\n",
    "    col1,col2 = st.columns([3,3],gap=\"medium\")\n",
    "    with col1:\n",
    "        st.write(\" \")\n",
    "        st.write(\" \")\n",
    "        st.markdown(\"### :violet[About PhonePe Pulse:] \")\n",
    "        st.write(\"##### BENGALURU, India, On Sept. 3, 2021 PhonePe, India's leading fintech platform, announced the launch of PhonePe Pulse, India's first interactive website with data, insights and trends on digital payments in the country. The PhonePe Pulse website showcases more than 2000+ Crore transactions by consumers on an interactive map of India. With  over 45% market share, PhonePe's data is representative of the country's digital payment habits.\")\n",
    "        \n",
    "        st.write(\"##### The insights on the website and in the report have been drawn from two key sources - the entirety of PhonePe's transaction data combined with merchant and customer interviews. The report is available as a free download on the PhonePe Pulse website and GitHub.\")\n",
    "        \n",
    "        st.markdown(\"### :violet[About PhonePe:] \")\n",
    "        st.write(\"##### PhonePe is India's leading fintech platform with over 300 million registered users. Using PhonePe, users can send and receive money, recharge mobile, DTH, pay at stores, make utility payments, buy gold and make investments. PhonePe forayed into financial services in 2017 with the launch of Gold providing users with a safe and convenient option to buy 24-karat gold securely on its platform. PhonePe has since launched several Mutual Funds and Insurance products like tax-saving funds, liquid funds, international travel insurance and Corona Care, a dedicated insurance product for the COVID-19 pandemic among others. PhonePe also launched its Switch platform in 2018, and today its customers can place orders on over 600 apps directly from within the PhonePe mobile app. PhonePe is accepted at 20+ million merchant outlets across Bharat\")\n",
    "        \n",
    "    with col2:\n",
    "        st.write(\" \")\n",
    "        st.write(\" \")\n",
    "        st.write(\" \")\n",
    "        st.write(\" \")\n",
    "        st.image(\"about1.jpg\")"
   ]
  },
  {
   "cell_type": "code",
   "execution_count": null,
   "metadata": {},
   "outputs": [],
   "source": []
  },
  {
   "cell_type": "code",
   "execution_count": null,
   "metadata": {},
   "outputs": [],
   "source": []
  },
  {
   "cell_type": "code",
   "execution_count": null,
   "metadata": {},
   "outputs": [],
   "source": []
  },
  {
   "cell_type": "code",
   "execution_count": null,
   "metadata": {},
   "outputs": [],
   "source": []
  },
  {
   "cell_type": "code",
   "execution_count": null,
   "metadata": {},
   "outputs": [],
   "source": []
  },
  {
   "cell_type": "code",
   "execution_count": null,
   "metadata": {},
   "outputs": [],
   "source": []
  }
 ],
 "metadata": {
  "kernelspec": {
   "display_name": ".venv",
   "language": "python",
   "name": "python3"
  },
  "language_info": {
   "codemirror_mode": {
    "name": "ipython",
    "version": 3
   },
   "file_extension": ".py",
   "mimetype": "text/x-python",
   "name": "python",
   "nbconvert_exporter": "python",
   "pygments_lexer": "ipython3",
   "version": "3.12.0"
  }
 },
 "nbformat": 4,
 "nbformat_minor": 2
}
